{
 "cells": [
  {
   "cell_type": "markdown",
   "metadata": {},
   "source": [
    "[![Open In Colab](https://colab.research.google.com/assets/colab-badge.svg)](https://colab.research.google.com/github/UNSW-COMP9418/Week01/blob/main/COMP9418_W01_Graph_Representation_Traversal_MST.ipynb)\n",
    "\n",
    "# Graph Representation, Traversal and MST\n",
    "\n",
    "**COMP9418 W01 Tutorial**\n",
    "\n",
    "- Instructor: Gustavo Batista\n",
    "- School of Computer Science and Engineering, UNSW Sydney\n",
    "- Notebook designed by Gustavo Batista and Jeremy Gillen\n",
    "- Last Update 6th September 2022"
   ]
  },
  {
   "cell_type": "markdown",
   "metadata": {},
   "source": [
    "In this week's tutorial, we will review some concepts an algorithms for graph representation, traversal and Minimum Spanning Trees (MST) that will be useful during the course.\n",
    "\n",
    "## Technical prerequisites\n",
    "\n",
    "We will use Jupyter Notebooks in the practical part of the tutorials. There are three main ways to run these notebooks:\n",
    "\n",
    "1. *Google Colab*. The links available in WebCMS will open the course notebooks in [Google Colab](https://colab.research.google.com/). Google Colab has all the packages necessary to run these notebooks, so no installation is required. **This is our prefered approach**.\n",
    "\n",
    "2. *CSE VLAB*. We have installed the necessary packages in the CSE computers. You have to copy the notebook to your CSE account in VLAB to execute them. There are two possibilities to access VLAB. The most recommended is installing a [VNC software](https://taggi.cse.unsw.edu.au/FAQ/Really_quick_guide_to_VLAB/) in your computer. Alternatively, you can access these computers through a web interface using [CSE VLAB Gateway](https://vlabgateway.cse.unsw.edu.au/).\n",
    "\n",
    "3. *Your computer*. If you do not have Jupyter installed in your computer, we recommend installing [Anaconda](https://www.anaconda.com/distribution). Anaconda conveniently installs Python, the Jupyter Notebook, and other commonly used packages for scientific computing and data science. To render a graphical visualization of some graphs in this notebook, you also need to [install Graphviz](http://www.graphviz.org/download). If you have conda installed in your computer, you can try the command ```conda install python-graphviz``` directly. From our experience, Graphviz is a little troublesome to install in some systems. For instance, ```conda install python-graphviz``` often does not work on Linux systems and we did not have any success using ```pip3 install graphviz``` on most systems, so do *not* use ```pip3```.\n",
    "\n",
    "Once we have done all that, we import Graphviz, and heapq modules for later use."
   ]
  },
  {
   "cell_type": "code",
   "execution_count": 2,
   "metadata": {
    "scrolled": true
   },
   "outputs": [],
   "source": [
    "# Visualise our graph\n",
    "import graphviz\n",
    "# Priority queue for Prim algorithm\n",
    "import heapq as pq"
   ]
  },
  {
   "cell_type": "markdown",
   "metadata": {},
   "source": [
    "## Representing graphs\n",
    "\n",
    "We will not use any particular library for representing graphs in Python. Instead, we will represent a graph structure as a dictionary whose keys are the nodes of the graph. For each key, the corresponding value is a list. The list contains the nodes that are directly connected to this node.\n",
    "\n",
    "For instance, the following graph:\n",
    "\n",
    "![Graph example](img/example_graph.png \"Graph example\")\n",
    "\n",
    "can be represented as\n",
    "\n",
    "```\n",
    "graph = {\n",
    "    0: [2],\n",
    "    1: [0],\n",
    "    2: [1],\n",
    "    3: [1, 2],\n",
    "}\n",
    "```\n",
    "\n",
    "This representation is an adjacency list. If you'd like to read more about this style of graphs, there is more\n",
    "[information on the python website](https://www.python.org/doc/essays/graphs/)."
   ]
  },
  {
   "cell_type": "markdown",
   "metadata": {},
   "source": [
    "### Exercise\n",
    "\n",
    "Now, it is your turn. Represent the following directed graph using the suggested adjacency list representation.\n",
    "\n",
    "![Graph exercise](img/exercise_graph.png \"Graph exercise\")"
   ]
  },
  {
   "cell_type": "code",
   "execution_count": 3,
   "metadata": {},
   "outputs": [],
   "source": [
    "graph = {\n",
    "    0: [],\n",
    "    1: [],\n",
    "    2: [],\n",
    "    3: [],\n",
    "    4: [],\n",
    "    5: [],\n",
    "}"
   ]
  },
  {
   "cell_type": "code",
   "execution_count": 4,
   "metadata": {},
   "outputs": [],
   "source": [
    "#Answer\n",
    "\n",
    "graph = {\n",
    "    0: [3],\n",
    "    1: [0, 4],\n",
    "    2: [1, 4],\n",
    "    3: [1],\n",
    "    4: [3],\n",
    "    5: [4, 2],\n",
    "}"
   ]
  },
  {
   "cell_type": "markdown",
   "metadata": {},
   "source": [
    "## Graphviz\n",
    "\n",
    "We can use the Graphviz library to inspect our graphs visually. \n",
    "\n",
    "The following code will convert your digraph to a Graphviz object and render it."
   ]
  },
  {
   "cell_type": "code",
   "execution_count": 5,
   "metadata": {},
   "outputs": [
    {
     "data": {
      "image/svg+xml": "<?xml version=\"1.0\" encoding=\"UTF-8\" standalone=\"no\"?>\n<!DOCTYPE svg PUBLIC \"-//W3C//DTD SVG 1.1//EN\"\n \"http://www.w3.org/Graphics/SVG/1.1/DTD/svg11.dtd\">\n<!-- Generated by graphviz version 6.0.1 (20220911.1526)\n -->\n<!-- Pages: 1 -->\n<svg width=\"186pt\" height=\"106pt\"\n viewBox=\"0.00 0.00 186.01 106.01\" xmlns=\"http://www.w3.org/2000/svg\" xmlns:xlink=\"http://www.w3.org/1999/xlink\">\n<g id=\"graph0\" class=\"graph\" transform=\"scale(1 1) rotate(0) translate(4 102.01)\">\n<polygon fill=\"white\" stroke=\"none\" points=\"-4,4 -4,-102.01 182.01,-102.01 182.01,4 -4,4\"/>\n<!-- 0 -->\n<g id=\"node1\" class=\"node\">\n<title>0</title>\n<ellipse fill=\"none\" stroke=\"black\" cx=\"27\" cy=\"-80.01\" rx=\"27\" ry=\"18\"/>\n<text text-anchor=\"middle\" x=\"27\" y=\"-76.31\" font-family=\"Times,serif\" font-size=\"14.00\">0</text>\n</g>\n<!-- 3 -->\n<g id=\"node4\" class=\"node\">\n<title>3</title>\n<ellipse fill=\"none\" stroke=\"black\" cx=\"27\" cy=\"-18\" rx=\"27\" ry=\"18\"/>\n<text text-anchor=\"middle\" x=\"27\" y=\"-14.3\" font-family=\"Times,serif\" font-size=\"14.00\">3</text>\n</g>\n<!-- 0&#45;&gt;3 -->\n<g id=\"edge1\" class=\"edge\">\n<title>0&#45;&gt;3</title>\n<path fill=\"none\" stroke=\"black\" d=\"M27,-61.74C27,-56.99 27,-51.75 27,-46.61\"/>\n<polygon fill=\"black\" stroke=\"black\" points=\"30.5,-46.35 27,-36.35 23.5,-46.35 30.5,-46.35\"/>\n</g>\n<!-- 1 -->\n<g id=\"node2\" class=\"node\">\n<title>1</title>\n<ellipse fill=\"none\" stroke=\"black\" cx=\"89.01\" cy=\"-80.01\" rx=\"27\" ry=\"18\"/>\n<text text-anchor=\"middle\" x=\"89.01\" y=\"-76.31\" font-family=\"Times,serif\" font-size=\"14.00\">1</text>\n</g>\n<!-- 1&#45;&gt;0 -->\n<g id=\"edge2\" class=\"edge\">\n<title>1&#45;&gt;0</title>\n<path fill=\"none\" stroke=\"black\" d=\"M61.99,-80.01C61.83,-80.01 61.66,-80.01 61.5,-80.01\"/>\n<polygon fill=\"black\" stroke=\"black\" points=\"64.12,-76.51 54.12,-80.01 64.12,-83.51 64.12,-76.51\"/>\n</g>\n<!-- 4 -->\n<g id=\"node5\" class=\"node\">\n<title>4</title>\n<ellipse fill=\"none\" stroke=\"black\" cx=\"89.01\" cy=\"-18\" rx=\"27\" ry=\"18\"/>\n<text text-anchor=\"middle\" x=\"89.01\" y=\"-14.3\" font-family=\"Times,serif\" font-size=\"14.00\">4</text>\n</g>\n<!-- 1&#45;&gt;4 -->\n<g id=\"edge3\" class=\"edge\">\n<title>1&#45;&gt;4</title>\n<path fill=\"none\" stroke=\"black\" d=\"M89.01,-61.74C89.01,-56.99 89.01,-51.75 89.01,-46.61\"/>\n<polygon fill=\"black\" stroke=\"black\" points=\"92.51,-46.35 89.01,-36.35 85.51,-46.35 92.51,-46.35\"/>\n</g>\n<!-- 2 -->\n<g id=\"node3\" class=\"node\">\n<title>2</title>\n<ellipse fill=\"none\" stroke=\"black\" cx=\"151.01\" cy=\"-80.01\" rx=\"27\" ry=\"18\"/>\n<text text-anchor=\"middle\" x=\"151.01\" y=\"-76.31\" font-family=\"Times,serif\" font-size=\"14.00\">2</text>\n</g>\n<!-- 2&#45;&gt;1 -->\n<g id=\"edge4\" class=\"edge\">\n<title>2&#45;&gt;1</title>\n<path fill=\"none\" stroke=\"black\" d=\"M124,-80.01C123.83,-80.01 123.67,-80.01 123.51,-80.01\"/>\n<polygon fill=\"black\" stroke=\"black\" points=\"126.12,-76.51 116.12,-80.01 126.12,-83.51 126.12,-76.51\"/>\n</g>\n<!-- 2&#45;&gt;4 -->\n<g id=\"edge5\" class=\"edge\">\n<title>2&#45;&gt;4</title>\n<path fill=\"none\" stroke=\"black\" d=\"M136,-65C128.65,-57.64 119.64,-48.63 111.49,-40.48\"/>\n<polygon fill=\"black\" stroke=\"black\" points=\"113.85,-37.9 104.31,-33.3 108.9,-42.85 113.85,-37.9\"/>\n</g>\n<!-- 3&#45;&gt;1 -->\n<g id=\"edge6\" class=\"edge\">\n<title>3&#45;&gt;1</title>\n<path fill=\"none\" stroke=\"black\" d=\"M42.01,-33.01C49.36,-40.36 58.37,-49.37 66.53,-57.53\"/>\n<polygon fill=\"black\" stroke=\"black\" points=\"64.16,-60.11 73.7,-64.7 69.11,-55.16 64.16,-60.11\"/>\n</g>\n<!-- 4&#45;&gt;3 -->\n<g id=\"edge7\" class=\"edge\">\n<title>4&#45;&gt;3</title>\n<path fill=\"none\" stroke=\"black\" d=\"M61.99,-18C61.83,-18 61.66,-18 61.5,-18\"/>\n<polygon fill=\"black\" stroke=\"black\" points=\"64.12,-14.5 54.12,-18 64.12,-21.5 64.12,-14.5\"/>\n</g>\n<!-- 5 -->\n<g id=\"node6\" class=\"node\">\n<title>5</title>\n<ellipse fill=\"none\" stroke=\"black\" cx=\"151.01\" cy=\"-18\" rx=\"27\" ry=\"18\"/>\n<text text-anchor=\"middle\" x=\"151.01\" y=\"-14.3\" font-family=\"Times,serif\" font-size=\"14.00\">5</text>\n</g>\n<!-- 5&#45;&gt;2 -->\n<g id=\"edge9\" class=\"edge\">\n<title>5&#45;&gt;2</title>\n<path fill=\"none\" stroke=\"black\" d=\"M151.01,-36.27C151.01,-41.02 151.01,-46.25 151.01,-51.4\"/>\n<polygon fill=\"black\" stroke=\"black\" points=\"147.51,-51.65 151.01,-61.65 154.51,-51.65 147.51,-51.65\"/>\n</g>\n<!-- 5&#45;&gt;4 -->\n<g id=\"edge8\" class=\"edge\">\n<title>5&#45;&gt;4</title>\n<path fill=\"none\" stroke=\"black\" d=\"M124,-18C123.83,-18 123.67,-18 123.51,-18\"/>\n<polygon fill=\"black\" stroke=\"black\" points=\"126.12,-14.5 116.12,-18 126.12,-21.5 126.12,-14.5\"/>\n</g>\n</g>\n</svg>\n",
      "text/plain": [
       "<graphviz.graphs.Digraph at 0x104fd71c0>"
      ]
     },
     "execution_count": 5,
     "metadata": {},
     "output_type": "execute_result"
    }
   ],
   "source": [
    "dot = graphviz.Digraph(engine=\"neato\", comment='Direct graph example')\n",
    "dot.attr(overlap=\"false\", splines=\"true\")\n",
    "\n",
    "# List of positions for each node\n",
    "# We use node positions to replicate the previous figure\n",
    "# This can be removed if the nodes do not need to be presented in a specific order\n",
    "pos = {\n",
    "    0: '0,1!',\n",
    "    1: '1,1!',\n",
    "    2: '2,1!',\n",
    "    3: '0,0!',\n",
    "    4: '1,0!',\n",
    "    5: '2,0!',\n",
    "}\n",
    "\n",
    "for v in graph.keys():\n",
    "    dot.node(str(v), pos=pos[v])\n",
    "    # dot.node(str(v))              # Use this line instead of the previous one to position the nodes in random order\n",
    "\n",
    "for v in graph.keys():\n",
    "    for w in graph[v]:\n",
    "        dot.edge(str(v), str(w))\n",
    "\n",
    "dot"
   ]
  },
  {
   "cell_type": "markdown",
   "metadata": {},
   "source": [
    "## Graph class\n",
    "\n",
    "To keep our code clean and put all of the graph related functions in one place,\n",
    "we can wrap this graph data structure in a class."
   ]
  },
  {
   "cell_type": "code",
   "execution_count": 6,
   "metadata": {},
   "outputs": [],
   "source": [
    "class Graph:\n",
    "    def __init__(self, adj_list=None):\n",
    "        self.adj_list = dict()\n",
    "        if adj_list is not None:\n",
    "            self.adj_list = adj_list.copy() # dict with graph's adjacency list\n",
    "        self.colour = dict()"
   ]
  },
  {
   "cell_type": "code",
   "execution_count": 7,
   "metadata": {},
   "outputs": [],
   "source": [
    "class Graph(Graph):\n",
    "    def show(self, directed=True, positions=None):\n",
    "        \"\"\"\n",
    "        Prints a graphical visualisation of the graph usign GraphViz\n",
    "        arguments:\n",
    "            `directed`, True if the graph is directed, False if the graph is undirected\n",
    "            `pos: dictionary`, with nodes as keys and positions as values\n",
    "        return:\n",
    "            GraphViz object\n",
    "        \"\"\"\n",
    "        if directed:\n",
    "            dot = graphviz.Digraph(engine=\"neato\", comment='Directed graph')\n",
    "        else:\n",
    "            dot = graphviz.Graph(engine=\"neato\", comment='Undirected graph', strict=True)        \n",
    "        dot.attr(overlap=\"false\", splines=\"true\")\n",
    "        for v in self.adj_list:\n",
    "            if positions is not None:\n",
    "                dot.node(str(v), pos=positions[v])\n",
    "            else:\n",
    "                dot.node(str(v))\n",
    "        for v in self.adj_list:\n",
    "            for w in self.adj_list[v]:\n",
    "                dot.edge(str(v), str(w))\n",
    "\n",
    "        return dot"
   ]
  },
  {
   "cell_type": "code",
   "execution_count": 8,
   "metadata": {},
   "outputs": [
    {
     "data": {
      "image/svg+xml": "<?xml version=\"1.0\" encoding=\"UTF-8\" standalone=\"no\"?>\n<!DOCTYPE svg PUBLIC \"-//W3C//DTD SVG 1.1//EN\"\n \"http://www.w3.org/Graphics/SVG/1.1/DTD/svg11.dtd\">\n<!-- Generated by graphviz version 6.0.1 (20220911.1526)\n -->\n<!-- Pages: 1 -->\n<svg width=\"186pt\" height=\"106pt\"\n viewBox=\"0.00 0.00 186.01 106.01\" xmlns=\"http://www.w3.org/2000/svg\" xmlns:xlink=\"http://www.w3.org/1999/xlink\">\n<g id=\"graph0\" class=\"graph\" transform=\"scale(1 1) rotate(0) translate(4 102.01)\">\n<polygon fill=\"white\" stroke=\"none\" points=\"-4,4 -4,-102.01 182.01,-102.01 182.01,4 -4,4\"/>\n<!-- 0 -->\n<g id=\"node1\" class=\"node\">\n<title>0</title>\n<ellipse fill=\"none\" stroke=\"black\" cx=\"27\" cy=\"-80.01\" rx=\"27\" ry=\"18\"/>\n<text text-anchor=\"middle\" x=\"27\" y=\"-76.31\" font-family=\"Times,serif\" font-size=\"14.00\">0</text>\n</g>\n<!-- 3 -->\n<g id=\"node4\" class=\"node\">\n<title>3</title>\n<ellipse fill=\"none\" stroke=\"black\" cx=\"27\" cy=\"-18\" rx=\"27\" ry=\"18\"/>\n<text text-anchor=\"middle\" x=\"27\" y=\"-14.3\" font-family=\"Times,serif\" font-size=\"14.00\">3</text>\n</g>\n<!-- 0&#45;&gt;3 -->\n<g id=\"edge1\" class=\"edge\">\n<title>0&#45;&gt;3</title>\n<path fill=\"none\" stroke=\"black\" d=\"M27,-61.74C27,-56.99 27,-51.75 27,-46.61\"/>\n<polygon fill=\"black\" stroke=\"black\" points=\"30.5,-46.35 27,-36.35 23.5,-46.35 30.5,-46.35\"/>\n</g>\n<!-- 1 -->\n<g id=\"node2\" class=\"node\">\n<title>1</title>\n<ellipse fill=\"none\" stroke=\"black\" cx=\"89.01\" cy=\"-80.01\" rx=\"27\" ry=\"18\"/>\n<text text-anchor=\"middle\" x=\"89.01\" y=\"-76.31\" font-family=\"Times,serif\" font-size=\"14.00\">1</text>\n</g>\n<!-- 1&#45;&gt;0 -->\n<g id=\"edge2\" class=\"edge\">\n<title>1&#45;&gt;0</title>\n<path fill=\"none\" stroke=\"black\" d=\"M61.99,-80.01C61.83,-80.01 61.66,-80.01 61.5,-80.01\"/>\n<polygon fill=\"black\" stroke=\"black\" points=\"64.12,-76.51 54.12,-80.01 64.12,-83.51 64.12,-76.51\"/>\n</g>\n<!-- 4 -->\n<g id=\"node5\" class=\"node\">\n<title>4</title>\n<ellipse fill=\"none\" stroke=\"black\" cx=\"89.01\" cy=\"-18\" rx=\"27\" ry=\"18\"/>\n<text text-anchor=\"middle\" x=\"89.01\" y=\"-14.3\" font-family=\"Times,serif\" font-size=\"14.00\">4</text>\n</g>\n<!-- 1&#45;&gt;4 -->\n<g id=\"edge3\" class=\"edge\">\n<title>1&#45;&gt;4</title>\n<path fill=\"none\" stroke=\"black\" d=\"M89.01,-61.74C89.01,-56.99 89.01,-51.75 89.01,-46.61\"/>\n<polygon fill=\"black\" stroke=\"black\" points=\"92.51,-46.35 89.01,-36.35 85.51,-46.35 92.51,-46.35\"/>\n</g>\n<!-- 2 -->\n<g id=\"node3\" class=\"node\">\n<title>2</title>\n<ellipse fill=\"none\" stroke=\"black\" cx=\"151.01\" cy=\"-80.01\" rx=\"27\" ry=\"18\"/>\n<text text-anchor=\"middle\" x=\"151.01\" y=\"-76.31\" font-family=\"Times,serif\" font-size=\"14.00\">2</text>\n</g>\n<!-- 2&#45;&gt;1 -->\n<g id=\"edge4\" class=\"edge\">\n<title>2&#45;&gt;1</title>\n<path fill=\"none\" stroke=\"black\" d=\"M124,-80.01C123.83,-80.01 123.67,-80.01 123.51,-80.01\"/>\n<polygon fill=\"black\" stroke=\"black\" points=\"126.12,-76.51 116.12,-80.01 126.12,-83.51 126.12,-76.51\"/>\n</g>\n<!-- 2&#45;&gt;4 -->\n<g id=\"edge5\" class=\"edge\">\n<title>2&#45;&gt;4</title>\n<path fill=\"none\" stroke=\"black\" d=\"M136,-65C128.65,-57.64 119.64,-48.63 111.49,-40.48\"/>\n<polygon fill=\"black\" stroke=\"black\" points=\"113.85,-37.9 104.31,-33.3 108.9,-42.85 113.85,-37.9\"/>\n</g>\n<!-- 3&#45;&gt;1 -->\n<g id=\"edge6\" class=\"edge\">\n<title>3&#45;&gt;1</title>\n<path fill=\"none\" stroke=\"black\" d=\"M42.01,-33.01C49.36,-40.36 58.37,-49.37 66.53,-57.53\"/>\n<polygon fill=\"black\" stroke=\"black\" points=\"64.16,-60.11 73.7,-64.7 69.11,-55.16 64.16,-60.11\"/>\n</g>\n<!-- 4&#45;&gt;3 -->\n<g id=\"edge7\" class=\"edge\">\n<title>4&#45;&gt;3</title>\n<path fill=\"none\" stroke=\"black\" d=\"M61.99,-18C61.83,-18 61.66,-18 61.5,-18\"/>\n<polygon fill=\"black\" stroke=\"black\" points=\"64.12,-14.5 54.12,-18 64.12,-21.5 64.12,-14.5\"/>\n</g>\n<!-- 5 -->\n<g id=\"node6\" class=\"node\">\n<title>5</title>\n<ellipse fill=\"none\" stroke=\"black\" cx=\"151.01\" cy=\"-18\" rx=\"27\" ry=\"18\"/>\n<text text-anchor=\"middle\" x=\"151.01\" y=\"-14.3\" font-family=\"Times,serif\" font-size=\"14.00\">5</text>\n</g>\n<!-- 5&#45;&gt;2 -->\n<g id=\"edge9\" class=\"edge\">\n<title>5&#45;&gt;2</title>\n<path fill=\"none\" stroke=\"black\" d=\"M151.01,-36.27C151.01,-41.02 151.01,-46.25 151.01,-51.4\"/>\n<polygon fill=\"black\" stroke=\"black\" points=\"147.51,-51.65 151.01,-61.65 154.51,-51.65 147.51,-51.65\"/>\n</g>\n<!-- 5&#45;&gt;4 -->\n<g id=\"edge8\" class=\"edge\">\n<title>5&#45;&gt;4</title>\n<path fill=\"none\" stroke=\"black\" d=\"M124,-18C123.83,-18 123.67,-18 123.51,-18\"/>\n<polygon fill=\"black\" stroke=\"black\" points=\"126.12,-14.5 116.12,-18 126.12,-21.5 126.12,-14.5\"/>\n</g>\n</g>\n</svg>\n",
      "text/plain": [
       "<graphviz.graphs.Digraph at 0x104fd78e0>"
      ]
     },
     "execution_count": 8,
     "metadata": {},
     "output_type": "execute_result"
    }
   ],
   "source": [
    "G = Graph(graph)\n",
    "G.show(positions=pos)"
   ]
  },
  {
   "cell_type": "markdown",
   "metadata": {},
   "source": [
    "## Depth-first search\n",
    "\n",
    "Let's implement the DFS search. We will provide the code for you. Later on, you will extend it to implement other algorithms. We will use a colouring scheme for nodes. \n",
    "\n",
    "Initially, all nodes are \"white\" indicating they are not processed yet. When we first visit a node, we recolour it as \"grey\". Finally, the node becomes \"black\" when we have processed all its outgoing edges, and we are ready to backtrack to the previous node."
   ]
  },
  {
   "cell_type": "code",
   "execution_count": 9,
   "metadata": {},
   "outputs": [],
   "source": [
    "class Graph(Graph):\n",
    "    def _dfs_r(self, v): # This is the main DFS recursive function\n",
    "        \"\"\"\n",
    "        argument \n",
    "        `v`, next vertex to be visited\n",
    "        `colour`, dictionary with the colour of each node\n",
    "        \"\"\"\n",
    "        print('Visiting: ', v)\n",
    "        self.colour[v] = 'grey' # Visited vertices are coloured 'grey'\n",
    "        for w in self.adj_list[v]: # Let's visit all outgoing edges from v\n",
    "            if self.colour[w] == 'white': # To avoid loops, we check if the next vertex hasn't been visited yet\n",
    "                self._dfs_r(w)\n",
    "        self.colour[v] = 'black' # When we finish the for loop, we know we have visited all nodes from v. It is time to turn it 'black'\n",
    "\n",
    "    def dfs(self, start): # This is an auxiliary DFS function to create and initialize the colour dictionary\n",
    "        \"\"\"\n",
    "        argument \n",
    "        `start`, starting vertex\n",
    "        \"\"\"    \n",
    "        self.colour = {node: 'white' for node in self.adj_list.keys()} # Create a dictionary with keys as node numbers and values equal to 'white'\n",
    "        self._dfs_r(start)\n",
    "        return self.colour # We can return colour dictionary. It is useful for some operations, such as detecting connected components"
   ]
  },
  {
   "cell_type": "markdown",
   "metadata": {},
   "source": [
    "We can now test your graph representation. If you represented the graph correctly, a DFS starting at node 0 should visit all vertices but nodes 2 and 5. Notice, there is no path between node 0 and nodes 2 and 5."
   ]
  },
  {
   "cell_type": "code",
   "execution_count": 10,
   "metadata": {},
   "outputs": [
    {
     "name": "stdout",
     "output_type": "stream",
     "text": [
      "Visiting:  0\n",
      "Visiting:  3\n",
      "Visiting:  1\n",
      "Visiting:  4\n"
     ]
    },
    {
     "data": {
      "text/plain": [
       "{0: 'black', 1: 'black', 2: 'white', 3: 'black', 4: 'black', 5: 'white'}"
      ]
     },
     "execution_count": 10,
     "metadata": {},
     "output_type": "execute_result"
    }
   ],
   "source": [
    "G = Graph(graph)\n",
    "G.dfs(0)"
   ]
  },
  {
   "cell_type": "markdown",
   "metadata": {},
   "source": [
    "A modification of the algorithm can make sure it searches all nodes, even if they are disconnected from other nodes. The idea is to re-start the recursive DFS search for each white node until all nodes become black."
   ]
  },
  {
   "cell_type": "code",
   "execution_count": 11,
   "metadata": {},
   "outputs": [],
   "source": [
    "class Graph(Graph):\n",
    "    def dfs_all(self): # This is an auxiliary DFS function to create and initialize the colour dictionary\n",
    "        \"\"\"\n",
    "        argument \n",
    "        `start`, starting vertex\n",
    "        \"\"\"    \n",
    "        self.colour = {node: 'white' for node in self.adj_list.keys()} # Create a dictionary with keys as node numbers and values equal to 'white'\n",
    "        for start in self.colour.keys():\n",
    "            if self.colour[start] == 'white':\n",
    "                self._dfs_r(start)"
   ]
  },
  {
   "cell_type": "code",
   "execution_count": 12,
   "metadata": {},
   "outputs": [
    {
     "name": "stdout",
     "output_type": "stream",
     "text": [
      "Visiting:  0\n",
      "Visiting:  3\n",
      "Visiting:  1\n",
      "Visiting:  4\n",
      "Visiting:  2\n",
      "Visiting:  5\n"
     ]
    }
   ],
   "source": [
    "G = Graph(graph)\n",
    "G.dfs_all()"
   ]
  },
  {
   "cell_type": "markdown",
   "metadata": {},
   "source": [
    "## Finding Cycles in Directed Graphs\n",
    "\n",
    "Our second task is to determine if a graph has cycles. During a DFS, a cycle can be found by testing if we have reached a grey node. Usually, we stop when we first observe a cycle. Therefore, we need to modify the DFS procedure to return a boolean.\n",
    "\n",
    "### Exercise\n",
    "\n",
    "Now, it is your turn, modify the code bellow to detect cycles in directed graphs."
   ]
  },
  {
   "cell_type": "code",
   "execution_count": 13,
   "metadata": {},
   "outputs": [
    {
     "name": "stdout",
     "output_type": "stream",
     "text": [
      "Test graph 1\n",
      "Visiting:  0\n",
      "Visiting:  0\n",
      "Test graph 2\n",
      "Visiting:  0\n",
      "Visiting:  0\n"
     ]
    },
    {
     "data": {
      "text/plain": [
       "False"
      ]
     },
     "execution_count": 13,
     "metadata": {},
     "output_type": "execute_result"
    }
   ],
   "source": [
    "class Graph(Graph):\n",
    "    # This is the main recursive function\n",
    "    def _find_cycle_r(self, v):\n",
    "        \"\"\"\n",
    "        argument \n",
    "        `v`, next vertex to be visited\n",
    "        \"\"\"      \n",
    "        print('Visiting: ', v)\n",
    "        \n",
    "        # insert your code here\n",
    "        # print a debug message such as\n",
    "        # print(v, w, 'Cycle detected')\n",
    "        # when you detect a cycle. \n",
    "\n",
    "        return False\n",
    "\n",
    "    # This is an auxiliary function to create and initialize the colour dictionary    \n",
    "    def find_cycle(self):\n",
    "        \"\"\"\n",
    "        argument \n",
    "        `v`, starting vertex\n",
    "        \"\"\"        \n",
    "        self.colour = dict([(node, 'white') for node in self.adj_list.keys()])\n",
    "        for start in self.colour.keys():\n",
    "            if self.colour[start] == 'white':\n",
    "                if self._find_cycle_r(start):\n",
    "                    return True\n",
    "                else:\n",
    "                    return self._find_cycle_r(start)\n",
    "\n",
    "#######################################\n",
    "# Test code\n",
    "#######################################\n",
    "test_graph1 = {\n",
    "    0: [1],\n",
    "    1: [2],\n",
    "    2: [3],\n",
    "    3: [4],\n",
    "    4: [5],\n",
    "    5: [0],\n",
    "}\n",
    "\n",
    "test_graph2 = {\n",
    "    0: [1,4],\n",
    "    1: [2],\n",
    "    2: [4],\n",
    "    3: [],\n",
    "    4: [5],\n",
    "    5: [3],\n",
    "}\n",
    "\n",
    "print ('Test graph 1')\n",
    "G1 = Graph(test_graph1)\n",
    "G1.find_cycle()\n",
    "print ('Test graph 2')\n",
    "G2 = Graph(test_graph2)\n",
    "G2.find_cycle()"
   ]
  },
  {
   "cell_type": "code",
   "execution_count": 14,
   "metadata": {},
   "outputs": [
    {
     "name": "stdout",
     "output_type": "stream",
     "text": [
      "Test graph 1\n",
      "Visiting:  0\n",
      "Visiting:  1\n",
      "Visiting:  2\n",
      "Visiting:  3\n",
      "Visiting:  4\n",
      "Visiting:  5\n",
      "5 0 Cycle detected\n",
      "Test graph 2\n",
      "Visiting:  0\n",
      "Visiting:  1\n",
      "Visiting:  2\n",
      "Visiting:  4\n",
      "Visiting:  5\n",
      "Visiting:  3\n",
      "Visiting:  0\n"
     ]
    },
    {
     "data": {
      "text/plain": [
       "False"
      ]
     },
     "execution_count": 14,
     "metadata": {},
     "output_type": "execute_result"
    }
   ],
   "source": [
    "#Answer\n",
    "\n",
    "class Graph(Graph):\n",
    "    # This is the main recursive function\n",
    "    def _find_cycle_r(self, v):\n",
    "        \"\"\"\n",
    "        argument \n",
    "        `v`, next vertex to be visited\n",
    "        \"\"\"      \n",
    "        print('Visiting: ', v)\n",
    "        self.colour[v] = 'grey'\n",
    "        for w in self.adj_list[v]:\n",
    "            if self.colour[w] == 'white':\n",
    "                if self._find_cycle_r(w):\n",
    "                    return True\n",
    "            else:\n",
    "                if self.colour[w] == 'grey':\n",
    "                    print(v, w, 'Cycle detected')\n",
    "                    return True\n",
    "        self.colour[v] = 'black'\n",
    "        return False\n",
    "\n",
    "    # This is an auxiliary function to create and initialize the colour dictionary    \n",
    "    def find_cycle(self):\n",
    "        \"\"\"\n",
    "        argument \n",
    "        `v`, starting vertex\n",
    "        \"\"\"        \n",
    "        self.colour = dict([(node, 'white') for node in self.adj_list.keys()])\n",
    "        for start in self.colour.keys():\n",
    "            if self.colour[start] == 'white':\n",
    "                if self._find_cycle_r(start):\n",
    "                    return True\n",
    "                else:\n",
    "                    return self._find_cycle_r(start)\n",
    "\n",
    "#######################################\n",
    "# Test code\n",
    "#######################################\n",
    "test_graph1 = {\n",
    "    0: [1],\n",
    "    1: [2],\n",
    "    2: [3],\n",
    "    3: [4],\n",
    "    4: [5],\n",
    "    5: [0],\n",
    "}\n",
    "\n",
    "test_graph2 = {\n",
    "    0: [1,4],\n",
    "    1: [2],\n",
    "    2: [4],\n",
    "    3: [],\n",
    "    4: [5],\n",
    "    5: [3],\n",
    "}\n",
    "\n",
    "print ('Test graph 1')\n",
    "G1 = Graph(test_graph1)\n",
    "G1.find_cycle()\n",
    "print ('Test graph 2')\n",
    "G2 = Graph(test_graph2)\n",
    "G2.find_cycle()"
   ]
  },
  {
   "cell_type": "markdown",
   "metadata": {},
   "source": [
    "If your implementation is correct and you included a message when the cycle is detected, then you should see the following output:\n",
    "\n",
    "```\n",
    "Test graph 1\n",
    "Visiting:  0\n",
    "Visiting:  1\n",
    "Visiting:  2\n",
    "Visiting:  3\n",
    "Visiting:  4\n",
    "Visiting:  5\n",
    "5 0 Cycle detected\n",
    "Test graph 2\n",
    "Visiting:  0\n",
    "Visiting:  1\n",
    "Visiting:  2\n",
    "Visiting:  4\n",
    "Visiting:  5\n",
    "Visiting:  3\n",
    "Visiting:  0\n",
    "False\n",
    "```"
   ]
  },
  {
   "cell_type": "markdown",
   "metadata": {},
   "source": [
    "We can now test your implementation in the exercise graph."
   ]
  },
  {
   "cell_type": "code",
   "execution_count": 15,
   "metadata": {},
   "outputs": [
    {
     "name": "stdout",
     "output_type": "stream",
     "text": [
      "Visiting:  0\n",
      "Visiting:  3\n",
      "Visiting:  1\n",
      "1 0 Cycle detected\n"
     ]
    },
    {
     "data": {
      "text/plain": [
       "True"
      ]
     },
     "execution_count": 15,
     "metadata": {},
     "output_type": "execute_result"
    }
   ],
   "source": [
    "G = Graph(graph)\n",
    "G.find_cycle()"
   ]
  },
  {
   "cell_type": "markdown",
   "metadata": {},
   "source": [
    "It should show one of the following cycles: 0-3-1 or 1-4-2, depending on the order you entered the node numbers in the adjacency list."
   ]
  },
  {
   "cell_type": "markdown",
   "metadata": {},
   "source": [
    "# Topological Sort\n",
    "\n",
    "The topological sort can be obtained by merely inserting the nodes into a stack when they become black. We use the stack to reverse the order of the nodes when printing the result. By doing so, the edges are directed from left to right.\n",
    "\n",
    "## Exercise\n",
    "\n",
    "Let's implement the topological sort. It is an almost trivial modification of your DFS procedure. We have started the code for you creating a stack to store the sorted nodes."
   ]
  },
  {
   "cell_type": "code",
   "execution_count": 16,
   "metadata": {},
   "outputs": [
    {
     "name": "stdout",
     "output_type": "stream",
     "text": [
      "Topological sort:\n",
      "[]\n"
     ]
    }
   ],
   "source": [
    "class Graph(Graph):\n",
    "    # This is the recursive function that visits the nodes according to depth-first search and appends the black nodes \n",
    "    # to the end of a `stack` list.\n",
    "    def _topological_sort_r(self, v):\n",
    "        \"\"\"\n",
    "        argument \n",
    "        `v`, current vertex\n",
    "        \"\"\"\n",
    "        \n",
    "        # TODO: Fill in this function\n",
    "        ...\n",
    "        \n",
    "        \n",
    "    # This is main function that prepares for the recursive function. It first colours all nodes as 'white' and call the\n",
    "    # recursive function for an arbitrary node. When the recursive function returns, if we have any remaining 'white'\n",
    "    # nodes, we call the recursive function again for these nodes.\n",
    "    def topological_sort(self):\n",
    "        \"\"\"\n",
    "        argument \n",
    "        `G`, an adjacency list representation of a graph\n",
    "        return a list with the topological order of the graph G\n",
    "        \"\"\"\n",
    "        # We start with an empty stack\n",
    "        self.stack = []\n",
    "        # Colour is dictionary that associates node keys to colours. The colours are 'white', 'grey' and 'black'.\n",
    "        self.colour = {node: 'white' for node in self.adj_list.keys()}\n",
    "        # We call the recursive function to visit a first node. When the function returns, if there are any white \n",
    "        # nodes remaining, we call the function again for these white nodes\n",
    "        for start in self.adj_list.keys():\n",
    "            # If the node is 'white' we call the recursive function to vists the nodes connected to it in DFS order\n",
    "            if self.colour[start] == 'white':\n",
    "                # This is a call to topologicalSort_r\n",
    "                self._topological_sort_r(start)\n",
    "        # We need to reverse the list, we use a little trick with list slice\n",
    "        return self.stack[::-1]\n",
    "\n",
    "\n",
    "#######################################\n",
    "# Test code\n",
    "#######################################\n",
    "        \n",
    "test_graph2 = {\n",
    "    0: [1,4],\n",
    "    1: [2],\n",
    "    2: [4],\n",
    "    3: [],\n",
    "    4: [5],\n",
    "    5: [3],    \n",
    "}\n",
    "\n",
    "G2 = Graph(test_graph2)\n",
    "print(\"Topological sort:\")\n",
    "print(G2.topological_sort())"
   ]
  },
  {
   "cell_type": "code",
   "execution_count": 17,
   "metadata": {},
   "outputs": [
    {
     "name": "stdout",
     "output_type": "stream",
     "text": [
      "Topological sort:\n",
      "[0, 1, 2, 4, 5, 3]\n"
     ]
    }
   ],
   "source": [
    "#Answer\n",
    "\n",
    "class Graph(Graph):\n",
    "    # This is the recursive function that visits the nodes according to depth-first search and appends the black nodes \n",
    "    # to the end of a `stack` list.\n",
    "    def _topological_sort_r(self, v):\n",
    "        \"\"\"\n",
    "        argument \n",
    "        `v`, current vertex\n",
    "        \"\"\"\n",
    "        # Nodes are colored 'white', 'grey' and 'black'. When we first visit a node, we color ir as `grey`.\n",
    "        self.colour[v] = 'grey'                                                                    # 1 line\n",
    "        # Let's look at all nodes that are adjacent to node v\n",
    "        for w in self.adj_list[v]:\n",
    "            # If the node color is 'white', it was never visited, so we call this function recursivelly to visit node w\n",
    "            if self.colour[w] == 'white':\n",
    "                # This is the recursive call to topologicalSort_r\n",
    "                self._topological_sort_r(w)                                        # 1 line\n",
    "        # All adjacent nodes have been visited recursively. Now it is time to color the node as 'black'        \n",
    "        self.colour[v] = 'black'\n",
    "        # Black nodes are appended to the `stack` list.\n",
    "        self.stack.append(v)\n",
    "\n",
    "    # This is main function that prepares for the recursive function. It first colours all nodes as 'white' and call the\n",
    "    # recursive function for an arbitrary node. When the recursive function returns, if we have any remaining 'white'\n",
    "    # nodes, we call the recursive function again for these nodes.\n",
    "    def topological_sort(self):\n",
    "        \"\"\"\n",
    "        argument \n",
    "        `G`, an adjacency list representation of a graph\n",
    "        return a list with the topological order of the graph G\n",
    "        \"\"\"\n",
    "        # We start with an empty stack\n",
    "        self.stack = []\n",
    "        # Colour is dictionary that associates node keys to colours. The colours are 'white', 'grey' and 'black'.\n",
    "        self.colour = {node: 'white' for node in self.adj_list.keys()}\n",
    "        # We call the recursive function to visit a first node. When the function returns, if there are any white \n",
    "        # nodes remaining, we call the function again for these white nodes\n",
    "        for start in self.adj_list.keys():\n",
    "            # If the node is 'white' we call the recursive function to vists the nodes connected to it in DFS order\n",
    "            if self.colour[start] == 'white':\n",
    "                # This is a call to topologicalSort_r\n",
    "                self._topological_sort_r(start)\n",
    "        # We need to reverse the list, we use a little trick with list slice\n",
    "        return self.stack[::-1]\n",
    "\n",
    "\n",
    "#######################################\n",
    "# Test code\n",
    "#######################################\n",
    "        \n",
    "test_graph2 = {\n",
    "    0: [1,4],\n",
    "    1: [2],\n",
    "    2: [4],\n",
    "    3: [],\n",
    "    4: [5],\n",
    "    5: [3],    \n",
    "}\n",
    "\n",
    "G2 = Graph(test_graph2)\n",
    "print(\"Topological sort:\")\n",
    "print(G2.topological_sort())"
   ]
  },
  {
   "cell_type": "markdown",
   "metadata": {},
   "source": [
    "If your implementation is correct, then you should see the following output:\n",
    "\n",
    "```\n",
    "Topological sort: \n",
    "[0, 1, 2, 4, 5, 3]\n",
    "```"
   ]
  },
  {
   "cell_type": "markdown",
   "metadata": {},
   "source": [
    "Now, let's execute your code. First, we need a new DAG, since our example has cycles and the topological ordering only makes sense for acyclic graphs."
   ]
  },
  {
   "cell_type": "code",
   "execution_count": 18,
   "metadata": {},
   "outputs": [
    {
     "data": {
      "text/plain": [
       "[3, 0, 1, 4, 2, 5]"
      ]
     },
     "execution_count": 18,
     "metadata": {},
     "output_type": "execute_result"
    }
   ],
   "source": [
    "graph = {\n",
    "    0: [1, 4],\n",
    "    1: [2, 4],\n",
    "    2: [5],\n",
    "    3: [0, 4],\n",
    "    4: [5],\n",
    "    5: [],\n",
    "}\n",
    "\n",
    "G = Graph(graph)\n",
    "G.topological_sort()"
   ]
  },
  {
   "cell_type": "markdown",
   "metadata": {},
   "source": [
    "Let's visualise the test graph again, just to remember its topology."
   ]
  },
  {
   "cell_type": "code",
   "execution_count": 19,
   "metadata": {
    "scrolled": false
   },
   "outputs": [
    {
     "data": {
      "image/svg+xml": "<?xml version=\"1.0\" encoding=\"UTF-8\" standalone=\"no\"?>\n<!DOCTYPE svg PUBLIC \"-//W3C//DTD SVG 1.1//EN\"\n \"http://www.w3.org/Graphics/SVG/1.1/DTD/svg11.dtd\">\n<!-- Generated by graphviz version 6.0.1 (20220911.1526)\n -->\n<!-- Pages: 1 -->\n<svg width=\"186pt\" height=\"106pt\"\n viewBox=\"0.00 0.00 186.01 106.01\" xmlns=\"http://www.w3.org/2000/svg\" xmlns:xlink=\"http://www.w3.org/1999/xlink\">\n<g id=\"graph0\" class=\"graph\" transform=\"scale(1 1) rotate(0) translate(4 102.01)\">\n<polygon fill=\"white\" stroke=\"none\" points=\"-4,4 -4,-102.01 182.01,-102.01 182.01,4 -4,4\"/>\n<!-- 0 -->\n<g id=\"node1\" class=\"node\">\n<title>0</title>\n<ellipse fill=\"none\" stroke=\"black\" cx=\"27\" cy=\"-80.01\" rx=\"27\" ry=\"18\"/>\n<text text-anchor=\"middle\" x=\"27\" y=\"-76.31\" font-family=\"Times,serif\" font-size=\"14.00\">0</text>\n</g>\n<!-- 1 -->\n<g id=\"node2\" class=\"node\">\n<title>1</title>\n<ellipse fill=\"none\" stroke=\"black\" cx=\"89.01\" cy=\"-80.01\" rx=\"27\" ry=\"18\"/>\n<text text-anchor=\"middle\" x=\"89.01\" y=\"-76.31\" font-family=\"Times,serif\" font-size=\"14.00\">1</text>\n</g>\n<!-- 0&#45;&gt;1 -->\n<g id=\"edge1\" class=\"edge\">\n<title>0&#45;&gt;1</title>\n<path fill=\"none\" stroke=\"black\" d=\"M54.02,-80.01C54.18,-80.01 54.34,-80.01 54.51,-80.01\"/>\n<polygon fill=\"black\" stroke=\"black\" points=\"51.89,-83.51 61.89,-80.01 51.89,-76.51 51.89,-83.51\"/>\n</g>\n<!-- 4 -->\n<g id=\"node5\" class=\"node\">\n<title>4</title>\n<ellipse fill=\"none\" stroke=\"black\" cx=\"89.01\" cy=\"-18\" rx=\"27\" ry=\"18\"/>\n<text text-anchor=\"middle\" x=\"89.01\" y=\"-14.3\" font-family=\"Times,serif\" font-size=\"14.00\">4</text>\n</g>\n<!-- 0&#45;&gt;4 -->\n<g id=\"edge2\" class=\"edge\">\n<title>0&#45;&gt;4</title>\n<path fill=\"none\" stroke=\"black\" d=\"M42.01,-65C49.36,-57.64 58.37,-48.63 66.53,-40.48\"/>\n<polygon fill=\"black\" stroke=\"black\" points=\"69.11,-42.85 73.7,-33.3 64.16,-37.9 69.11,-42.85\"/>\n</g>\n<!-- 2 -->\n<g id=\"node3\" class=\"node\">\n<title>2</title>\n<ellipse fill=\"none\" stroke=\"black\" cx=\"151.01\" cy=\"-80.01\" rx=\"27\" ry=\"18\"/>\n<text text-anchor=\"middle\" x=\"151.01\" y=\"-76.31\" font-family=\"Times,serif\" font-size=\"14.00\">2</text>\n</g>\n<!-- 1&#45;&gt;2 -->\n<g id=\"edge3\" class=\"edge\">\n<title>1&#45;&gt;2</title>\n<path fill=\"none\" stroke=\"black\" d=\"M116.02,-80.01C116.19,-80.01 116.35,-80.01 116.51,-80.01\"/>\n<polygon fill=\"black\" stroke=\"black\" points=\"113.89,-83.51 123.89,-80.01 113.89,-76.51 113.89,-83.51\"/>\n</g>\n<!-- 1&#45;&gt;4 -->\n<g id=\"edge4\" class=\"edge\">\n<title>1&#45;&gt;4</title>\n<path fill=\"none\" stroke=\"black\" d=\"M89.01,-61.74C89.01,-56.99 89.01,-51.75 89.01,-46.61\"/>\n<polygon fill=\"black\" stroke=\"black\" points=\"92.51,-46.35 89.01,-36.35 85.51,-46.35 92.51,-46.35\"/>\n</g>\n<!-- 5 -->\n<g id=\"node6\" class=\"node\">\n<title>5</title>\n<ellipse fill=\"none\" stroke=\"black\" cx=\"151.01\" cy=\"-18\" rx=\"27\" ry=\"18\"/>\n<text text-anchor=\"middle\" x=\"151.01\" y=\"-14.3\" font-family=\"Times,serif\" font-size=\"14.00\">5</text>\n</g>\n<!-- 2&#45;&gt;5 -->\n<g id=\"edge5\" class=\"edge\">\n<title>2&#45;&gt;5</title>\n<path fill=\"none\" stroke=\"black\" d=\"M151.01,-61.74C151.01,-56.99 151.01,-51.75 151.01,-46.61\"/>\n<polygon fill=\"black\" stroke=\"black\" points=\"154.51,-46.35 151.01,-36.35 147.51,-46.35 154.51,-46.35\"/>\n</g>\n<!-- 3 -->\n<g id=\"node4\" class=\"node\">\n<title>3</title>\n<ellipse fill=\"none\" stroke=\"black\" cx=\"27\" cy=\"-18\" rx=\"27\" ry=\"18\"/>\n<text text-anchor=\"middle\" x=\"27\" y=\"-14.3\" font-family=\"Times,serif\" font-size=\"14.00\">3</text>\n</g>\n<!-- 3&#45;&gt;0 -->\n<g id=\"edge6\" class=\"edge\">\n<title>3&#45;&gt;0</title>\n<path fill=\"none\" stroke=\"black\" d=\"M27,-36.27C27,-41.02 27,-46.25 27,-51.4\"/>\n<polygon fill=\"black\" stroke=\"black\" points=\"23.5,-51.65 27,-61.65 30.5,-51.65 23.5,-51.65\"/>\n</g>\n<!-- 3&#45;&gt;4 -->\n<g id=\"edge7\" class=\"edge\">\n<title>3&#45;&gt;4</title>\n<path fill=\"none\" stroke=\"black\" d=\"M54.02,-18C54.18,-18 54.34,-18 54.51,-18\"/>\n<polygon fill=\"black\" stroke=\"black\" points=\"51.89,-21.5 61.89,-18 51.89,-14.5 51.89,-21.5\"/>\n</g>\n<!-- 4&#45;&gt;5 -->\n<g id=\"edge8\" class=\"edge\">\n<title>4&#45;&gt;5</title>\n<path fill=\"none\" stroke=\"black\" d=\"M116.02,-18C116.19,-18 116.35,-18 116.51,-18\"/>\n<polygon fill=\"black\" stroke=\"black\" points=\"113.89,-21.5 123.89,-18 113.89,-14.5 113.89,-21.5\"/>\n</g>\n</g>\n</svg>\n",
      "text/plain": [
       "<graphviz.graphs.Digraph at 0x105243ac0>"
      ]
     },
     "execution_count": 19,
     "metadata": {},
     "output_type": "execute_result"
    }
   ],
   "source": [
    "G.show(positions=pos)"
   ]
  },
  {
   "cell_type": "markdown",
   "metadata": {},
   "source": [
    "We can use graphViz to visualize the topological sort output graphically to confirm our code is correct. "
   ]
  },
  {
   "cell_type": "code",
   "execution_count": 20,
   "metadata": {},
   "outputs": [
    {
     "data": {
      "image/svg+xml": "<?xml version=\"1.0\" encoding=\"UTF-8\" standalone=\"no\"?>\n<!DOCTYPE svg PUBLIC \"-//W3C//DTD SVG 1.1//EN\"\n \"http://www.w3.org/Graphics/SVG/1.1/DTD/svg11.dtd\">\n<!-- Generated by graphviz version 6.0.1 (20220911.1526)\n -->\n<!-- Pages: 1 -->\n<svg width=\"372pt\" height=\"51pt\"\n viewBox=\"0.00 0.00 372.03 51.12\" xmlns=\"http://www.w3.org/2000/svg\" xmlns:xlink=\"http://www.w3.org/1999/xlink\">\n<g id=\"graph0\" class=\"graph\" transform=\"scale(1 1) rotate(0) translate(4 47.12)\">\n<polygon fill=\"white\" stroke=\"none\" points=\"-4,4 -4,-47.12 368.03,-47.12 368.03,4 -4,4\"/>\n<!-- 3 -->\n<g id=\"node1\" class=\"node\">\n<title>3</title>\n<ellipse fill=\"none\" stroke=\"black\" cx=\"27\" cy=\"-19.69\" rx=\"27\" ry=\"18\"/>\n<text text-anchor=\"middle\" x=\"27\" y=\"-15.99\" font-family=\"Times,serif\" font-size=\"14.00\">3</text>\n</g>\n<!-- 0 -->\n<g id=\"node2\" class=\"node\">\n<title>0</title>\n<ellipse fill=\"none\" stroke=\"black\" cx=\"89.01\" cy=\"-19.69\" rx=\"27\" ry=\"18\"/>\n<text text-anchor=\"middle\" x=\"89.01\" y=\"-15.99\" font-family=\"Times,serif\" font-size=\"14.00\">0</text>\n</g>\n<!-- 3&#45;&gt;0 -->\n<g id=\"edge1\" class=\"edge\">\n<title>3&#45;&gt;0</title>\n<path fill=\"none\" stroke=\"black\" d=\"M54.02,-19.69C54.18,-19.69 54.34,-19.69 54.51,-19.69\"/>\n<polygon fill=\"black\" stroke=\"black\" points=\"51.89,-23.19 61.89,-19.69 51.89,-16.19 51.89,-23.19\"/>\n</g>\n<!-- 4 -->\n<g id=\"node4\" class=\"node\">\n<title>4</title>\n<ellipse fill=\"none\" stroke=\"black\" cx=\"213.02\" cy=\"-19.69\" rx=\"27\" ry=\"18\"/>\n<text text-anchor=\"middle\" x=\"213.02\" y=\"-15.99\" font-family=\"Times,serif\" font-size=\"14.00\">4</text>\n</g>\n<!-- 3&#45;&gt;4 -->\n<g id=\"edge2\" class=\"edge\">\n<title>3&#45;&gt;4</title>\n<path fill=\"none\" stroke=\"black\" d=\"M50.37,-29.12C61.77,-33.19 75.82,-37.45 88.88,-39.28 116.12,-43.12 123.51,-42.99 150.77,-39.28 160.05,-38.02 162.11,-36.39 171.07,-33.66 173.66,-32.87 176.34,-32.03 179.03,-31.17\"/>\n<polygon fill=\"black\" stroke=\"black\" points=\"180.26,-34.45 188.68,-28.03 178.09,-27.79 180.26,-34.45\"/>\n</g>\n<!-- 1 -->\n<g id=\"node3\" class=\"node\">\n<title>1</title>\n<ellipse fill=\"none\" stroke=\"black\" cx=\"151.01\" cy=\"-19.69\" rx=\"27\" ry=\"18\"/>\n<text text-anchor=\"middle\" x=\"151.01\" y=\"-15.99\" font-family=\"Times,serif\" font-size=\"14.00\">1</text>\n</g>\n<!-- 0&#45;&gt;1 -->\n<g id=\"edge3\" class=\"edge\">\n<title>0&#45;&gt;1</title>\n<path fill=\"none\" stroke=\"black\" d=\"M116.02,-19.69C116.19,-19.69 116.35,-19.69 116.51,-19.69\"/>\n<polygon fill=\"black\" stroke=\"black\" points=\"113.89,-23.19 123.89,-19.69 113.89,-16.19 113.89,-23.19\"/>\n</g>\n<!-- 0&#45;&gt;4 -->\n<g id=\"edge4\" class=\"edge\">\n<title>0&#45;&gt;4</title>\n<path fill=\"none\" stroke=\"black\" d=\"M110.95,-9.13C122.65,-4.45 137.43,0 151.25,-0.09 161.35,-0.15 171.97,-2.58 181.5,-5.71\"/>\n<polygon fill=\"black\" stroke=\"black\" points=\"180.37,-9.02 190.96,-9.15 182.76,-2.44 180.37,-9.02\"/>\n</g>\n<!-- 1&#45;&gt;4 -->\n<g id=\"edge6\" class=\"edge\">\n<title>1&#45;&gt;4</title>\n<path fill=\"none\" stroke=\"black\" d=\"M178.03,-19.69C178.19,-19.69 178.36,-19.69 178.52,-19.69\"/>\n<polygon fill=\"black\" stroke=\"black\" points=\"175.9,-23.19 185.9,-19.69 175.9,-16.19 175.9,-23.19\"/>\n</g>\n<!-- 2 -->\n<g id=\"node5\" class=\"node\">\n<title>2</title>\n<ellipse fill=\"none\" stroke=\"black\" cx=\"275.02\" cy=\"-19.69\" rx=\"27\" ry=\"18\"/>\n<text text-anchor=\"middle\" x=\"275.02\" y=\"-15.99\" font-family=\"Times,serif\" font-size=\"14.00\">2</text>\n</g>\n<!-- 1&#45;&gt;2 -->\n<g id=\"edge5\" class=\"edge\">\n<title>1&#45;&gt;2</title>\n<path fill=\"none\" stroke=\"black\" d=\"M173.12,-30.26C184.7,-34.87 199.28,-39.25 212.92,-39.28 223.08,-39.31 233.75,-36.91 243.33,-33.77\"/>\n<polygon fill=\"black\" stroke=\"black\" points=\"244.64,-37.02 252.84,-30.32 242.25,-30.44 244.64,-37.02\"/>\n</g>\n<!-- 5 -->\n<g id=\"node6\" class=\"node\">\n<title>5</title>\n<ellipse fill=\"none\" stroke=\"black\" cx=\"337.03\" cy=\"-19.69\" rx=\"27\" ry=\"18\"/>\n<text text-anchor=\"middle\" x=\"337.03\" y=\"-15.99\" font-family=\"Times,serif\" font-size=\"14.00\">5</text>\n</g>\n<!-- 4&#45;&gt;5 -->\n<g id=\"edge7\" class=\"edge\">\n<title>4&#45;&gt;5</title>\n<path fill=\"none\" stroke=\"black\" d=\"M235.11,-30.24C246.67,-34.85 261.23,-39.23 274.86,-39.28 285.11,-39.33 295.89,-36.89 305.53,-33.72\"/>\n<polygon fill=\"black\" stroke=\"black\" points=\"306.92,-36.94 315.11,-30.22 304.52,-30.36 306.92,-36.94\"/>\n</g>\n<!-- 2&#45;&gt;5 -->\n<g id=\"edge8\" class=\"edge\">\n<title>2&#45;&gt;5</title>\n<path fill=\"none\" stroke=\"black\" d=\"M302.04,-19.69C302.2,-19.69 302.37,-19.69 302.53,-19.69\"/>\n<polygon fill=\"black\" stroke=\"black\" points=\"299.91,-23.19 309.91,-19.69 299.91,-16.19 299.91,-23.19\"/>\n</g>\n</g>\n</svg>\n",
      "text/plain": [
       "<graphviz.graphs.Digraph at 0x105243160>"
      ]
     },
     "execution_count": 20,
     "metadata": {},
     "output_type": "execute_result"
    }
   ],
   "source": [
    "# We use the neato engine since it allow to position the nodes\n",
    "dot = graphviz.Digraph(engine=\"neato\", comment='Topological sort')\n",
    "# This line will avoid the edges to cross over the nodes\n",
    "dot.attr(overlap=\"false\", splines=\"true\")\n",
    "\n",
    "s = G.topological_sort()\n",
    "\n",
    "# Create nodes in sequence positions determined by the stack s\n",
    "for i, v in enumerate(s, 1):\n",
    "    dot.node(str(v), pos=str(i)+',0!')\n",
    "\n",
    "# Create edges\n",
    "for v in s:\n",
    "    for w in graph[v]:\n",
    "        dot.edge(str(v), str(w))\n",
    "\n",
    "dot"
   ]
  },
  {
   "cell_type": "markdown",
   "metadata": {},
   "source": [
    "# Transpose Graph\n",
    "\n",
    "Transposition is an operation over a directed graph $G$ that results in another directed graph on the same set of vertices with all of the edges reversed. The following figure illustrates this process, with a graph $G$ on the left side and its transpose $G^T$ on the right side:\n",
    "\n",
    "![Transpose graph](img/Transpose_graph.png \"Transpose Graph\")\n",
    "\n",
    "\n",
    "## Exercise\n",
    "\n",
    "Implement the transpose operation over our graph representation. Take a graph as input and produce its transpose as output."
   ]
  },
  {
   "cell_type": "code",
   "execution_count": 21,
   "metadata": {},
   "outputs": [],
   "source": [
    "class Graph(Graph):\n",
    "    def transpose(self):\n",
    "        \"\"\"\n",
    "        argument \n",
    "        `G`, an adjacency list representation of a graph\n",
    "        \"\"\"      \n",
    "        gt = dict((v, []) for v in self.adj_list)\n",
    "        # TODO\n",
    "        ...\n",
    "        return Graph(gt)"
   ]
  },
  {
   "cell_type": "code",
   "execution_count": 22,
   "metadata": {},
   "outputs": [],
   "source": [
    "# Answer\n",
    "\n",
    "class Graph(Graph):\n",
    "    def transpose(self):\n",
    "        \"\"\"\n",
    "        argument \n",
    "        `G`, an adjacency list representation of a graph\n",
    "        \"\"\"      \n",
    "        gt = dict((v, []) for v in self.adj_list)\n",
    "        for v in self.adj_list:\n",
    "            for w in self.adj_list[v]:\n",
    "                gt[w].append(v)\n",
    "        return Graph(gt)"
   ]
  },
  {
   "cell_type": "markdown",
   "metadata": {},
   "source": [
    "Let's write some code for testing. First, we define the same test graph as the figure above. We will call our transpose_graph routine and use the Graphviz library to plot the transposed graph. We have done the code for you below. You can compare the output with the figure above to check if your code is correct."
   ]
  },
  {
   "cell_type": "code",
   "execution_count": 23,
   "metadata": {},
   "outputs": [
    {
     "data": {
      "image/svg+xml": "<?xml version=\"1.0\" encoding=\"UTF-8\" standalone=\"no\"?>\n<!DOCTYPE svg PUBLIC \"-//W3C//DTD SVG 1.1//EN\"\n \"http://www.w3.org/Graphics/SVG/1.1/DTD/svg11.dtd\">\n<!-- Generated by graphviz version 6.0.1 (20220911.1526)\n -->\n<!-- Pages: 1 -->\n<svg width=\"186pt\" height=\"106pt\"\n viewBox=\"0.00 0.00 186.01 106.01\" xmlns=\"http://www.w3.org/2000/svg\" xmlns:xlink=\"http://www.w3.org/1999/xlink\">\n<g id=\"graph0\" class=\"graph\" transform=\"scale(1 1) rotate(0) translate(4 102.01)\">\n<polygon fill=\"white\" stroke=\"none\" points=\"-4,4 -4,-102.01 182.01,-102.01 182.01,4 -4,4\"/>\n<!-- 0 -->\n<g id=\"node1\" class=\"node\">\n<title>0</title>\n<ellipse fill=\"none\" stroke=\"black\" cx=\"27\" cy=\"-80.01\" rx=\"27\" ry=\"18\"/>\n<text text-anchor=\"middle\" x=\"27\" y=\"-76.31\" font-family=\"Times,serif\" font-size=\"14.00\">0</text>\n</g>\n<!-- 1 -->\n<g id=\"node2\" class=\"node\">\n<title>1</title>\n<ellipse fill=\"none\" stroke=\"black\" cx=\"89.01\" cy=\"-80.01\" rx=\"27\" ry=\"18\"/>\n<text text-anchor=\"middle\" x=\"89.01\" y=\"-76.31\" font-family=\"Times,serif\" font-size=\"14.00\">1</text>\n</g>\n<!-- 0&#45;&gt;1 -->\n<g id=\"edge1\" class=\"edge\">\n<title>0&#45;&gt;1</title>\n<path fill=\"none\" stroke=\"black\" d=\"M54.02,-80.01C54.18,-80.01 54.34,-80.01 54.51,-80.01\"/>\n<polygon fill=\"black\" stroke=\"black\" points=\"51.89,-83.51 61.89,-80.01 51.89,-76.51 51.89,-83.51\"/>\n</g>\n<!-- 2 -->\n<g id=\"node3\" class=\"node\">\n<title>2</title>\n<ellipse fill=\"none\" stroke=\"black\" cx=\"151.01\" cy=\"-80.01\" rx=\"27\" ry=\"18\"/>\n<text text-anchor=\"middle\" x=\"151.01\" y=\"-76.31\" font-family=\"Times,serif\" font-size=\"14.00\">2</text>\n</g>\n<!-- 1&#45;&gt;2 -->\n<g id=\"edge2\" class=\"edge\">\n<title>1&#45;&gt;2</title>\n<path fill=\"none\" stroke=\"black\" d=\"M116.02,-80.01C116.19,-80.01 116.35,-80.01 116.51,-80.01\"/>\n<polygon fill=\"black\" stroke=\"black\" points=\"113.89,-83.51 123.89,-80.01 113.89,-76.51 113.89,-83.51\"/>\n</g>\n<!-- 3 -->\n<g id=\"node4\" class=\"node\">\n<title>3</title>\n<ellipse fill=\"none\" stroke=\"black\" cx=\"27\" cy=\"-18\" rx=\"27\" ry=\"18\"/>\n<text text-anchor=\"middle\" x=\"27\" y=\"-14.3\" font-family=\"Times,serif\" font-size=\"14.00\">3</text>\n</g>\n<!-- 1&#45;&gt;3 -->\n<g id=\"edge3\" class=\"edge\">\n<title>1&#45;&gt;3</title>\n<path fill=\"none\" stroke=\"black\" d=\"M74,-65C66.64,-57.64 57.63,-48.63 49.48,-40.48\"/>\n<polygon fill=\"black\" stroke=\"black\" points=\"51.85,-37.9 42.3,-33.3 46.9,-42.85 51.85,-37.9\"/>\n</g>\n<!-- 5 -->\n<g id=\"node6\" class=\"node\">\n<title>5</title>\n<ellipse fill=\"none\" stroke=\"black\" cx=\"151.01\" cy=\"-18\" rx=\"27\" ry=\"18\"/>\n<text text-anchor=\"middle\" x=\"151.01\" y=\"-14.3\" font-family=\"Times,serif\" font-size=\"14.00\">5</text>\n</g>\n<!-- 2&#45;&gt;5 -->\n<g id=\"edge4\" class=\"edge\">\n<title>2&#45;&gt;5</title>\n<path fill=\"none\" stroke=\"black\" d=\"M151.01,-61.74C151.01,-56.99 151.01,-51.75 151.01,-46.61\"/>\n<polygon fill=\"black\" stroke=\"black\" points=\"154.51,-46.35 151.01,-36.35 147.51,-46.35 154.51,-46.35\"/>\n</g>\n<!-- 3&#45;&gt;0 -->\n<g id=\"edge5\" class=\"edge\">\n<title>3&#45;&gt;0</title>\n<path fill=\"none\" stroke=\"black\" d=\"M27,-36.27C27,-41.02 27,-46.25 27,-51.4\"/>\n<polygon fill=\"black\" stroke=\"black\" points=\"23.5,-51.65 27,-61.65 30.5,-51.65 23.5,-51.65\"/>\n</g>\n<!-- 4 -->\n<g id=\"node5\" class=\"node\">\n<title>4</title>\n<ellipse fill=\"none\" stroke=\"black\" cx=\"89.01\" cy=\"-18\" rx=\"27\" ry=\"18\"/>\n<text text-anchor=\"middle\" x=\"89.01\" y=\"-14.3\" font-family=\"Times,serif\" font-size=\"14.00\">4</text>\n</g>\n<!-- 3&#45;&gt;4 -->\n<g id=\"edge6\" class=\"edge\">\n<title>3&#45;&gt;4</title>\n<path fill=\"none\" stroke=\"black\" d=\"M54.02,-18C54.18,-18 54.34,-18 54.51,-18\"/>\n<polygon fill=\"black\" stroke=\"black\" points=\"51.89,-21.5 61.89,-18 51.89,-14.5 51.89,-21.5\"/>\n</g>\n<!-- 4&#45;&gt;1 -->\n<g id=\"edge7\" class=\"edge\">\n<title>4&#45;&gt;1</title>\n<path fill=\"none\" stroke=\"black\" d=\"M89.01,-36.27C89.01,-41.02 89.01,-46.25 89.01,-51.4\"/>\n<polygon fill=\"black\" stroke=\"black\" points=\"85.51,-51.65 89.01,-61.65 92.51,-51.65 85.51,-51.65\"/>\n</g>\n<!-- 4&#45;&gt;2 -->\n<g id=\"edge8\" class=\"edge\">\n<title>4&#45;&gt;2</title>\n<path fill=\"none\" stroke=\"black\" d=\"M104.02,-33.01C111.37,-40.36 120.38,-49.37 128.53,-57.53\"/>\n<polygon fill=\"black\" stroke=\"black\" points=\"126.16,-60.11 135.71,-64.7 131.11,-55.16 126.16,-60.11\"/>\n</g>\n<!-- 5&#45;&gt;4 -->\n<g id=\"edge9\" class=\"edge\">\n<title>5&#45;&gt;4</title>\n<path fill=\"none\" stroke=\"black\" d=\"M124,-18C123.83,-18 123.67,-18 123.51,-18\"/>\n<polygon fill=\"black\" stroke=\"black\" points=\"126.12,-14.5 116.12,-18 126.12,-21.5 126.12,-14.5\"/>\n</g>\n</g>\n</svg>\n",
      "text/plain": [
       "<graphviz.graphs.Digraph at 0x105240490>"
      ]
     },
     "execution_count": 23,
     "metadata": {},
     "output_type": "execute_result"
    }
   ],
   "source": [
    "#######################################\n",
    "# Test code\n",
    "#######################################\n",
    "\n",
    "test_graph = {\n",
    "    0: [3],\n",
    "    1: [0, 4],\n",
    "    2: [1, 4],\n",
    "    3: [1],\n",
    "    4: [3, 5],\n",
    "    5: [2],\n",
    "}\n",
    "\n",
    "pos = {\n",
    "    0: '0,1!',\n",
    "    1: '1,1!',\n",
    "    2: '2,1!',\n",
    "    3: '0,0!',\n",
    "    4: '1,0!',\n",
    "    5: '2,0!',\n",
    "}\n",
    "\n",
    "G = Graph(test_graph)\n",
    "GT = G.transpose()\n",
    "GT.show(positions=pos)"
   ]
  },
  {
   "cell_type": "markdown",
   "metadata": {},
   "source": [
    "# Minimum Spanning Trees\n",
    "\n",
    "Minimum spanning tree (MST) is an operation on weighted undirected graphs. We receive a graph $G=(V,E)$ and we should return the spanning tree of $G$ that has a minimum cost.\n",
    "\n",
    "A spanning tree is a graph with the same set of vertices $V$ of $G$, but with potentially fewer edges. A spanning tree is a graph with no cycles. If $G$ has $n$ edges, its spanning tree must have $n-1$ edges.\n",
    "\n",
    "The minimum spanning tree is the spanning tree whose sum of edge weights is the smallest among all spanning trees.\n",
    "\n",
    "The next figure shows a weighted undirect graph is its corresponding MST.\n",
    "\n",
    "![MST](img/spanning_tree.png \"MST\")"
   ]
  },
  {
   "cell_type": "markdown",
   "metadata": {},
   "source": [
    "Let's start by augmenting our graph representation to allow weighted edges, and adding methods to allow us to easily add nodes and edges to the graph. For later convenience, we will also add functions to remove nodes, iterate over all nodes, and get the children of a node. "
   ]
  },
  {
   "cell_type": "code",
   "execution_count": 24,
   "metadata": {},
   "outputs": [
    {
     "name": "stdout",
     "output_type": "stream",
     "text": [
      "The number of nodes in the graph is 6\n",
      "List of all nodes in the graph:\n",
      "0\n",
      "1\n",
      "2\n",
      "3\n",
      "4\n",
      "5\n",
      "0 is not child of 1\n",
      "Children of 1 are [2, 4]\n"
     ]
    }
   ],
   "source": [
    "class Graph(Graph):\n",
    "    def __init__(self, adj_list=None):\n",
    "        self.adj_list = dict()\n",
    "        if adj_list is not None:\n",
    "            self.adj_list = adj_list.copy() # dict with graph's adjacency list\n",
    "        self.colour = dict()\n",
    "        self.edge_weights = dict() # maps a tuple (node1, node2) to a number\n",
    "\n",
    "    def __len__(self):\n",
    "        '''\n",
    "        return the number of nodes in the graph\n",
    "        '''\n",
    "        return len(self.adj_list.keys())\n",
    "\n",
    "    def __iter__(self):\n",
    "        '''\n",
    "        Let a user iterate over the nodes of the graph, like:\n",
    "        for node in graph:\n",
    "            print(node)\n",
    "        '''\n",
    "        return iter(self.adj_list.keys())\n",
    "    \n",
    "    def children(self, node):\n",
    "        '''\n",
    "        Return a list of children of a node\n",
    "        '''\n",
    "        return self.adj_list[node]\n",
    "\n",
    "    def add_node(self, name):\n",
    "        '''\n",
    "        This method adds a node to the graph.\n",
    "        '''\n",
    "        if name not in self.adj_list:\n",
    "            self.adj_list[name] = []\n",
    "\n",
    "    def remove_node(self, name):\n",
    "        '''\n",
    "        This method removes a node, and any edges to or from the node\n",
    "        '''\n",
    "        for node in self.adj_list.keys():\n",
    "            if name in self.adj_list[node]:\n",
    "                self.adj_list[node].remove(name)\n",
    "        del self.adj_list[name]\n",
    "\n",
    "    def add_edge(self, node1, node2, weight=1, directed=True):\n",
    "        '''\n",
    "        This function adds an edge. If directed is false, it adds an edge in both directions\n",
    "        '''\n",
    "        # in case they don't already exist, add these nodes to the graph\n",
    "        self.add_node(node1)\n",
    "        self.add_node(node2)\n",
    "        \n",
    "        self.adj_list[node1].append(node2)\n",
    "        self.edge_weights[(node1,node2)] = weight\n",
    "        \n",
    "        if not directed:\n",
    "            self.adj_list[node2].append(node1)\n",
    "            self.edge_weights[(node2,node1)] = weight\n",
    "\n",
    "# Reinitialise graph G\n",
    "G = Graph(graph)\n",
    "\n",
    "### Example usage\n",
    "print(f\"The number of nodes in the graph is {len(G)}\")\n",
    "\n",
    "print(\"List of all nodes in the graph:\")\n",
    "for node in G:\n",
    "    print(node)\n",
    "    \n",
    "# check if 0 is a child of 1\n",
    "if 0 in G.children(1):\n",
    "    print(\"0 is child of 1\")\n",
    "else:\n",
    "    print(\"0 is not child of 1\")\n",
    "\n",
    "print(f\"Children of 1 are {G.children(1)}\")\n"
   ]
  },
  {
   "cell_type": "markdown",
   "metadata": {},
   "source": [
    "\n",
    "## Exercise\n",
    "\n",
    "Represent the graph on the left side of the previous figure using the proposed augmented representation. We have started and completed the first row."
   ]
  },
  {
   "cell_type": "code",
   "execution_count": 25,
   "metadata": {},
   "outputs": [
    {
     "data": {
      "image/svg+xml": "<?xml version=\"1.0\" encoding=\"UTF-8\" standalone=\"no\"?>\n<!DOCTYPE svg PUBLIC \"-//W3C//DTD SVG 1.1//EN\"\n \"http://www.w3.org/Graphics/SVG/1.1/DTD/svg11.dtd\">\n<!-- Generated by graphviz version 6.0.1 (20220911.1526)\n -->\n<!-- Pages: 1 -->\n<svg width=\"310pt\" height=\"230pt\"\n viewBox=\"0.00 0.00 310.02 230.02\" xmlns=\"http://www.w3.org/2000/svg\" xmlns:xlink=\"http://www.w3.org/1999/xlink\">\n<g id=\"graph0\" class=\"graph\" transform=\"scale(1 1) rotate(0) translate(4 226.02)\">\n<polygon fill=\"white\" stroke=\"none\" points=\"-4,4 -4,-226.02 306.02,-226.02 306.02,4 -4,4\"/>\n<!-- 0 -->\n<g id=\"node1\" class=\"node\">\n<title>0</title>\n<ellipse fill=\"none\" stroke=\"black\" cx=\"89.01\" cy=\"-204.02\" rx=\"27\" ry=\"18\"/>\n<text text-anchor=\"middle\" x=\"89.01\" y=\"-200.32\" font-family=\"Times,serif\" font-size=\"14.00\">0</text>\n</g>\n<!-- 2 -->\n<g id=\"node2\" class=\"node\">\n<title>2</title>\n<ellipse fill=\"none\" stroke=\"black\" cx=\"27\" cy=\"-142.01\" rx=\"27\" ry=\"18\"/>\n<text text-anchor=\"middle\" x=\"27\" y=\"-138.31\" font-family=\"Times,serif\" font-size=\"14.00\">2</text>\n</g>\n<!-- 0&#45;&#45;2 -->\n<g id=\"edge1\" class=\"edge\">\n<title>0&#45;&#45;2</title>\n<path fill=\"none\" stroke=\"black\" d=\"M74,-189.01C64.39,-179.4 51.96,-166.98 42.3,-157.31\"/>\n</g>\n<!-- 1 -->\n<g id=\"node3\" class=\"node\">\n<title>1</title>\n<ellipse fill=\"none\" stroke=\"black\" cx=\"275.02\" cy=\"-204.02\" rx=\"27\" ry=\"18\"/>\n<text text-anchor=\"middle\" x=\"275.02\" y=\"-200.32\" font-family=\"Times,serif\" font-size=\"14.00\">1</text>\n</g>\n<!-- 0&#45;&#45;1 -->\n<g id=\"edge2\" class=\"edge\">\n<title>0&#45;&#45;1</title>\n<path fill=\"none\" stroke=\"black\" d=\"M116.05,-204.02C151.32,-204.02 212.66,-204.02 247.94,-204.02\"/>\n</g>\n<!-- 3 -->\n<g id=\"node4\" class=\"node\">\n<title>3</title>\n<ellipse fill=\"none\" stroke=\"black\" cx=\"89.01\" cy=\"-80.01\" rx=\"27\" ry=\"18\"/>\n<text text-anchor=\"middle\" x=\"89.01\" y=\"-76.31\" font-family=\"Times,serif\" font-size=\"14.00\">3</text>\n</g>\n<!-- 2&#45;&#45;3 -->\n<g id=\"edge3\" class=\"edge\">\n<title>2&#45;&#45;3</title>\n<path fill=\"none\" stroke=\"black\" d=\"M42.01,-127C51.62,-117.4 64.04,-104.97 73.7,-95.31\"/>\n</g>\n<!-- 6 -->\n<g id=\"node5\" class=\"node\">\n<title>6</title>\n<ellipse fill=\"none\" stroke=\"black\" cx=\"27\" cy=\"-18\" rx=\"27\" ry=\"18\"/>\n<text text-anchor=\"middle\" x=\"27\" y=\"-14.3\" font-family=\"Times,serif\" font-size=\"14.00\">6</text>\n</g>\n<!-- 2&#45;&#45;6 -->\n<g id=\"edge4\" class=\"edge\">\n<title>2&#45;&#45;6</title>\n<path fill=\"none\" stroke=\"black\" d=\"M27,-123.98C27,-100.47 27,-59.58 27,-36.05\"/>\n</g>\n<!-- 1&#45;&#45;3 -->\n<g id=\"edge5\" class=\"edge\">\n<title>1&#45;&#45;3</title>\n<path fill=\"none\" stroke=\"black\" d=\"M255.82,-191.21C220.08,-167.39 143.77,-116.51 108.11,-92.74\"/>\n</g>\n<!-- 3&#45;&#45;6 -->\n<g id=\"edge6\" class=\"edge\">\n<title>3&#45;&#45;6</title>\n<path fill=\"none\" stroke=\"black\" d=\"M74,-65C64.39,-55.39 51.96,-42.96 42.3,-33.3\"/>\n</g>\n<!-- 5 -->\n<g id=\"node6\" class=\"node\">\n<title>5</title>\n<ellipse fill=\"none\" stroke=\"black\" cx=\"151.01\" cy=\"-80.01\" rx=\"27\" ry=\"18\"/>\n<text text-anchor=\"middle\" x=\"151.01\" y=\"-76.31\" font-family=\"Times,serif\" font-size=\"14.00\">5</text>\n</g>\n<!-- 3&#45;&#45;5 -->\n<g id=\"edge7\" class=\"edge\">\n<title>3&#45;&#45;5</title>\n<path fill=\"none\" stroke=\"black\" d=\"M116.02,-80.01C118.63,-80.01 121.28,-80.01 123.89,-80.01\"/>\n</g>\n</g>\n</svg>\n",
      "text/plain": [
       "<graphviz.graphs.Graph at 0x105243100>"
      ]
     },
     "execution_count": 25,
     "metadata": {},
     "output_type": "execute_result"
    }
   ],
   "source": [
    "g = Graph()\n",
    "g.add_edge(0,2,weight=4,directed=False)\n",
    "g.add_edge(0,1,weight=24,directed=False)\n",
    "g.add_edge(2,3,weight=6,directed=False)\n",
    "g.add_edge(2,6,weight=16,directed=False)\n",
    "g.add_edge(3,6,weight=8,directed=False)\n",
    "g.add_edge(3,5,weight=5,directed=False)\n",
    "g.add_edge(3,1,weight=23,directed=False)\n",
    "# TODO: add the rest of the edges\n",
    "...\n",
    "\n",
    "#######################################\n",
    "# Test code\n",
    "#######################################\n",
    "pos = {\n",
    "    0: '1,3!',\n",
    "    1: '4,3!',\n",
    "    2: '0,2!',\n",
    "    3: '1,1!',\n",
    "    4: '3,1!',\n",
    "    5: '2,1!',\n",
    "    6: '0,0!',\n",
    "    7: '4,0!',    \n",
    "}\n",
    "g.show(directed=False, positions=pos)"
   ]
  },
  {
   "cell_type": "code",
   "execution_count": 26,
   "metadata": {},
   "outputs": [
    {
     "data": {
      "image/svg+xml": "<?xml version=\"1.0\" encoding=\"UTF-8\" standalone=\"no\"?>\n<!DOCTYPE svg PUBLIC \"-//W3C//DTD SVG 1.1//EN\"\n \"http://www.w3.org/Graphics/SVG/1.1/DTD/svg11.dtd\">\n<!-- Generated by graphviz version 6.0.1 (20220911.1526)\n -->\n<!-- Pages: 1 -->\n<svg width=\"310pt\" height=\"230pt\"\n viewBox=\"0.00 0.00 310.02 230.02\" xmlns=\"http://www.w3.org/2000/svg\" xmlns:xlink=\"http://www.w3.org/1999/xlink\">\n<g id=\"graph0\" class=\"graph\" transform=\"scale(1 1) rotate(0) translate(4 226.02)\">\n<polygon fill=\"white\" stroke=\"none\" points=\"-4,4 -4,-226.02 306.02,-226.02 306.02,4 -4,4\"/>\n<!-- 0 -->\n<g id=\"node1\" class=\"node\">\n<title>0</title>\n<ellipse fill=\"none\" stroke=\"black\" cx=\"89.01\" cy=\"-204.02\" rx=\"27\" ry=\"18\"/>\n<text text-anchor=\"middle\" x=\"89.01\" y=\"-200.32\" font-family=\"Times,serif\" font-size=\"14.00\">0</text>\n</g>\n<!-- 2 -->\n<g id=\"node2\" class=\"node\">\n<title>2</title>\n<ellipse fill=\"none\" stroke=\"black\" cx=\"27\" cy=\"-142.01\" rx=\"27\" ry=\"18\"/>\n<text text-anchor=\"middle\" x=\"27\" y=\"-138.31\" font-family=\"Times,serif\" font-size=\"14.00\">2</text>\n</g>\n<!-- 0&#45;&#45;2 -->\n<g id=\"edge1\" class=\"edge\">\n<title>0&#45;&#45;2</title>\n<path fill=\"none\" stroke=\"black\" d=\"M74,-189.01C64.39,-179.4 51.96,-166.98 42.3,-157.31\"/>\n</g>\n<!-- 1 -->\n<g id=\"node3\" class=\"node\">\n<title>1</title>\n<ellipse fill=\"none\" stroke=\"black\" cx=\"275.02\" cy=\"-204.02\" rx=\"27\" ry=\"18\"/>\n<text text-anchor=\"middle\" x=\"275.02\" y=\"-200.32\" font-family=\"Times,serif\" font-size=\"14.00\">1</text>\n</g>\n<!-- 0&#45;&#45;1 -->\n<g id=\"edge2\" class=\"edge\">\n<title>0&#45;&#45;1</title>\n<path fill=\"none\" stroke=\"black\" d=\"M116.05,-204.02C151.32,-204.02 212.66,-204.02 247.94,-204.02\"/>\n</g>\n<!-- 3 -->\n<g id=\"node4\" class=\"node\">\n<title>3</title>\n<ellipse fill=\"none\" stroke=\"black\" cx=\"89.01\" cy=\"-80.01\" rx=\"27\" ry=\"18\"/>\n<text text-anchor=\"middle\" x=\"89.01\" y=\"-76.31\" font-family=\"Times,serif\" font-size=\"14.00\">3</text>\n</g>\n<!-- 2&#45;&#45;3 -->\n<g id=\"edge3\" class=\"edge\">\n<title>2&#45;&#45;3</title>\n<path fill=\"none\" stroke=\"black\" d=\"M42.01,-127C51.62,-117.4 64.04,-104.97 73.7,-95.31\"/>\n</g>\n<!-- 6 -->\n<g id=\"node5\" class=\"node\">\n<title>6</title>\n<ellipse fill=\"none\" stroke=\"black\" cx=\"27\" cy=\"-18\" rx=\"27\" ry=\"18\"/>\n<text text-anchor=\"middle\" x=\"27\" y=\"-14.3\" font-family=\"Times,serif\" font-size=\"14.00\">6</text>\n</g>\n<!-- 2&#45;&#45;6 -->\n<g id=\"edge4\" class=\"edge\">\n<title>2&#45;&#45;6</title>\n<path fill=\"none\" stroke=\"black\" d=\"M27,-123.98C27,-100.47 27,-59.58 27,-36.05\"/>\n</g>\n<!-- 1&#45;&#45;3 -->\n<g id=\"edge5\" class=\"edge\">\n<title>1&#45;&#45;3</title>\n<path fill=\"none\" stroke=\"black\" d=\"M255.82,-191.21C220.08,-167.39 143.77,-116.51 108.11,-92.74\"/>\n</g>\n<!-- 5 -->\n<g id=\"node6\" class=\"node\">\n<title>5</title>\n<ellipse fill=\"none\" stroke=\"black\" cx=\"151.01\" cy=\"-80.01\" rx=\"27\" ry=\"18\"/>\n<text text-anchor=\"middle\" x=\"151.01\" y=\"-76.31\" font-family=\"Times,serif\" font-size=\"14.00\">5</text>\n</g>\n<!-- 1&#45;&#45;5 -->\n<g id=\"edge6\" class=\"edge\">\n<title>1&#45;&#45;5</title>\n<path fill=\"none\" stroke=\"black\" d=\"M259.82,-188.81C236.02,-165.01 190.22,-119.21 166.34,-95.34\"/>\n</g>\n<!-- 4 -->\n<g id=\"node8\" class=\"node\">\n<title>4</title>\n<ellipse fill=\"none\" stroke=\"black\" cx=\"213.02\" cy=\"-80.01\" rx=\"27\" ry=\"18\"/>\n<text text-anchor=\"middle\" x=\"213.02\" y=\"-76.31\" font-family=\"Times,serif\" font-size=\"14.00\">4</text>\n</g>\n<!-- 1&#45;&#45;4 -->\n<g id=\"edge7\" class=\"edge\">\n<title>1&#45;&#45;4</title>\n<path fill=\"none\" stroke=\"black\" d=\"M266.4,-186.78C254.56,-163.08 233.37,-120.72 221.57,-97.1\"/>\n</g>\n<!-- 3&#45;&#45;6 -->\n<g id=\"edge8\" class=\"edge\">\n<title>3&#45;&#45;6</title>\n<path fill=\"none\" stroke=\"black\" d=\"M74,-65C64.39,-55.39 51.96,-42.96 42.3,-33.3\"/>\n</g>\n<!-- 3&#45;&#45;5 -->\n<g id=\"edge9\" class=\"edge\">\n<title>3&#45;&#45;5</title>\n<path fill=\"none\" stroke=\"black\" d=\"M116.02,-80.01C118.63,-80.01 121.28,-80.01 123.89,-80.01\"/>\n</g>\n<!-- 6&#45;&#45;5 -->\n<g id=\"edge10\" class=\"edge\">\n<title>6&#45;&#45;5</title>\n<path fill=\"none\" stroke=\"black\" d=\"M48.6,-28.8C71.22,-40.11 106.56,-57.78 129.24,-69.12\"/>\n</g>\n<!-- 7 -->\n<g id=\"node7\" class=\"node\">\n<title>7</title>\n<ellipse fill=\"none\" stroke=\"black\" cx=\"275.02\" cy=\"-18\" rx=\"27\" ry=\"18\"/>\n<text text-anchor=\"middle\" x=\"275.02\" y=\"-14.3\" font-family=\"Times,serif\" font-size=\"14.00\">7</text>\n</g>\n<!-- 6&#45;&#45;7 -->\n<g id=\"edge11\" class=\"edge\">\n<title>6&#45;&#45;7</title>\n<path fill=\"none\" stroke=\"black\" d=\"M54.02,-18C101.6,-18 199.84,-18 247.67,-18\"/>\n</g>\n<!-- 5&#45;&#45;7 -->\n<g id=\"edge13\" class=\"edge\">\n<title>5&#45;&#45;7</title>\n<path fill=\"none\" stroke=\"black\" d=\"M172.61,-69.21C195.24,-57.89 230.57,-40.23 253.25,-28.88\"/>\n</g>\n<!-- 5&#45;&#45;4 -->\n<g id=\"edge12\" class=\"edge\">\n<title>5&#45;&#45;4</title>\n<path fill=\"none\" stroke=\"black\" d=\"M178.03,-80.01C180.64,-80.01 183.29,-80.01 185.9,-80.01\"/>\n</g>\n<!-- 7&#45;&#45;4 -->\n<g id=\"edge14\" class=\"edge\">\n<title>7&#45;&#45;4</title>\n<path fill=\"none\" stroke=\"black\" d=\"M260.01,-33.01C250.41,-42.62 237.98,-55.04 228.32,-64.7\"/>\n</g>\n</g>\n</svg>\n",
      "text/plain": [
       "<graphviz.graphs.Graph at 0x105240790>"
      ]
     },
     "execution_count": 26,
     "metadata": {},
     "output_type": "execute_result"
    }
   ],
   "source": [
    "# Answer\n",
    "\n",
    "g = Graph()\n",
    "g.add_edge(0,2,weight=4,directed=False)\n",
    "g.add_edge(0,1,weight=24,directed=False)\n",
    "g.add_edge(2,3,weight=6,directed=False)\n",
    "g.add_edge(2,6,weight=16,directed=False)\n",
    "g.add_edge(3,6,weight=8,directed=False)\n",
    "g.add_edge(3,5,weight=5,directed=False)\n",
    "g.add_edge(3,1,weight=23,directed=False)\n",
    "g.add_edge(6,5,weight=10,directed=False)\n",
    "g.add_edge(6,7,weight=21,directed=False)\n",
    "g.add_edge(5,1,weight=18,directed=False)\n",
    "g.add_edge(5,4,weight=11,directed=False)\n",
    "g.add_edge(5,7,weight=14,directed=False)\n",
    "g.add_edge(4,1,weight=9,directed=False)\n",
    "g.add_edge(4,7,weight=7,directed=False)\n",
    "\n",
    "#######################################\n",
    "# Test code\n",
    "#######################################\n",
    "pos = {\n",
    "    0: '1,3!',\n",
    "    1: '4,3!',\n",
    "    2: '0,2!',\n",
    "    3: '1,1!',\n",
    "    4: '3,1!',\n",
    "    5: '2,1!',\n",
    "    6: '0,0!',\n",
    "    7: '4,0!',    \n",
    "}\n",
    "g.show(directed=False, positions=pos)"
   ]
  },
  {
   "cell_type": "markdown",
   "metadata": {},
   "source": [
    "## Exercise\n",
    "\n",
    "Now, let's implement the Prim algorithm. The general idea is to start the search from a node `s`. Initially, only nodes directly connected to `s` are considered. We use a priority queue to sort these nodes according to the edge weight. The priority queue is implementated with a binary heap data structure using Python's [heapq](https://docs.python.org/3/library/heapq.html) module. The node `u` with the smallest cost connecting to `s` is removed from the priority queue and inserted into the MST. The search expands to include the vertices that directly connect to `u`. These nodes are inserted into the priority queue, and the procedure repeats according to the following algorithm:\n",
    "\n",
    "![Prim](img/Prim.png \"MST\")\n",
    "\n",
    "Notice that `S` maintains the nodes currently in the MST. It is crucial to avoid inserting the same node twice since it would create a cycle. \n",
    "\n",
    "We have created a stub for you. You need to complete the gaps where there is an ellipsis."
   ]
  },
  {
   "cell_type": "code",
   "execution_count": 27,
   "metadata": {},
   "outputs": [
    {
     "ename": "TypeError",
     "evalue": "heappush() argument 1 must be list, not ellipsis",
     "output_type": "error",
     "traceback": [
      "\u001b[0;31m---------------------------------------------------------------------------\u001b[0m",
      "\u001b[0;31mTypeError\u001b[0m                                 Traceback (most recent call last)",
      "Cell \u001b[0;32mIn [27], line 48\u001b[0m\n\u001b[1;32m     45\u001b[0m \u001b[38;5;66;03m# TODO: copy the rest of the edges from above\u001b[39;00m\n\u001b[1;32m     46\u001b[0m \u001b[38;5;241m.\u001b[39m\u001b[38;5;241m.\u001b[39m\u001b[38;5;241m.\u001b[39m\n\u001b[0;32m---> 48\u001b[0m tree \u001b[38;5;241m=\u001b[39m \u001b[43mg\u001b[49m\u001b[38;5;241;43m.\u001b[39;49m\u001b[43mprim\u001b[49m\u001b[43m(\u001b[49m\u001b[38;5;241;43m0\u001b[39;49m\u001b[43m)\u001b[49m\n\u001b[1;32m     49\u001b[0m \u001b[38;5;28mprint\u001b[39m(tree\u001b[38;5;241m.\u001b[39medge_weights)\n\u001b[1;32m     50\u001b[0m tree\u001b[38;5;241m.\u001b[39mshow()\n",
      "Cell \u001b[0;32mIn [27], line 16\u001b[0m, in \u001b[0;36mGraph.prim\u001b[0;34m(self, start)\u001b[0m\n\u001b[1;32m     13\u001b[0m \u001b[38;5;66;03m# Initialise the priority queue Q with outgoing edges from s\u001b[39;00m\n\u001b[1;32m     14\u001b[0m \u001b[38;5;28;01mfor\u001b[39;00m e \u001b[38;5;129;01min\u001b[39;00m \u001b[38;5;28mself\u001b[39m\u001b[38;5;241m.\u001b[39madj_list[start]:\n\u001b[1;32m     15\u001b[0m     \u001b[38;5;66;03m# There is a trick here. Python prioriy queues accept tuples but the first entry of the tuple must be the priority value\u001b[39;00m\n\u001b[0;32m---> 16\u001b[0m     \u001b[43mpq\u001b[49m\u001b[38;5;241;43m.\u001b[39;49m\u001b[43mheappush\u001b[49m\u001b[43m(\u001b[49m\u001b[43mQ\u001b[49m\u001b[43m,\u001b[49m\u001b[43m \u001b[49m\u001b[38;5;241;43m.\u001b[39;49m\u001b[38;5;241;43m.\u001b[39;49m\u001b[38;5;241;43m.\u001b[39;49m\u001b[43m)\u001b[49m\n\u001b[1;32m     17\u001b[0m \u001b[38;5;28;01mwhile\u001b[39;00m \u001b[38;5;28mlen\u001b[39m(Q) \u001b[38;5;241m>\u001b[39m \u001b[38;5;241m0\u001b[39m:\n\u001b[1;32m     18\u001b[0m     \u001b[38;5;66;03m# Remove element from Q with the smallest weight\u001b[39;00m\n\u001b[1;32m     19\u001b[0m     weight, v, u \u001b[38;5;241m=\u001b[39m pq\u001b[38;5;241m.\u001b[39mheappop(Q)\n",
      "\u001b[0;31mTypeError\u001b[0m: heappush() argument 1 must be list, not ellipsis"
     ]
    }
   ],
   "source": [
    "class Graph(Graph):\n",
    "    def prim(self, start):\n",
    "        \"\"\"\n",
    "        argument \n",
    "        `start`, start vertex\n",
    "        \"\"\"      \n",
    "        # Intialise set 'visited' with vertex s\n",
    "        visited = ...\n",
    "        # Initialise priority queue Q with an empty list\n",
    "        Q = ...\n",
    "        # Initilise list tree with empty Graph object. This object will have the MST at the end of the execution\n",
    "        tree = ...\n",
    "        # Initialise the priority queue Q with outgoing edges from s\n",
    "        for e in self.adj_list[start]:\n",
    "            # There is a trick here. Python prioriy queues accept tuples but the first entry of the tuple must be the priority value\n",
    "            pq.heappush(Q, ...)\n",
    "        while len(Q) > 0:\n",
    "            # Remove element from Q with the smallest weight\n",
    "            weight, v, u = pq.heappop(Q)\n",
    "            # If the node is already in 'visited' we cannot include it in the MST since it would create a cycle\n",
    "            if u not in visited:\n",
    "                # Let's grow the MST by inserting the vertex in visited\n",
    "                ...\n",
    "                # Also we insert the edge in tree\n",
    "                ...\n",
    "                # We iterate over all outgoing edges of u\n",
    "                for e in self.adj_list[u]:\n",
    "                    # We are interested in edges that connect to vertices not in 'visited' and with smaller weight than known values stored in a\n",
    "                    if e not in visited:\n",
    "                        # Edge e is of interest, let's store in the priority queue for future analysis\n",
    "                        pq.heappush(Q, ...)        \n",
    "        return tree\n",
    "        \n",
    "#######################################\n",
    "# Test code\n",
    "#######################################\n",
    "g = Graph()\n",
    "g.add_edge(0,2,weight=4,directed=False)\n",
    "g.add_edge(0,1,weight=24,directed=False)\n",
    "g.add_edge(2,3,weight=6,directed=False)\n",
    "g.add_edge(2,6,weight=16,directed=False)\n",
    "g.add_edge(3,6,weight=8,directed=False)\n",
    "g.add_edge(3,5,weight=5,directed=False)\n",
    "g.add_edge(3,1,weight=23,directed=False)\n",
    "# TODO: copy the rest of the edges from above\n",
    "...\n",
    "\n",
    "tree = g.prim(0)\n",
    "print(tree.edge_weights)\n",
    "tree.show()"
   ]
  },
  {
   "cell_type": "code",
   "execution_count": null,
   "metadata": {},
   "outputs": [],
   "source": [
    "# Answer\n",
    "\n",
    "class Graph(Graph):\n",
    "    def prim(self, start):\n",
    "        \"\"\"\n",
    "        argument \n",
    "        `start`, start vertex\n",
    "        \"\"\"      \n",
    "        # Intialise set 'visited' with vertex s\n",
    "        visited = {start}\n",
    "        # Initialise priority queue Q with an empty list\n",
    "        Q = []\n",
    "        # Initilise list tree with empty Graph object. This object will have the MST at the end of the execution\n",
    "        tree = Graph()\n",
    "        # Initilise the priority queue Q with outgoing edges from s\n",
    "        for e in self.adj_list[start]:\n",
    "            # There is a trick here. Python prioriy queues accept tuples but the first entry of the tuple must be the priority value\n",
    "            pq.heappush(Q, (self.edge_weights[(start,e)], start, e))\n",
    "        while len(Q) > 0:\n",
    "            # Remove element from Q with the smallest weight\n",
    "            weight, v, u = pq.heappop(Q)\n",
    "            # If the node is already in 'visited' we cannot include it in the MST since it would create a cycle\n",
    "            if u not in visited:\n",
    "                # Let's grow the MST by inserting the vertex in visited\n",
    "                visited.add(u)\n",
    "                # Also we insert the edge in tree, use v, u, cost order\n",
    "                tree.add_edge(v, u, weight=weight)\n",
    "                # We iterate over all outgoing edges of u[1] (or \"v\" according to the algorithm)\n",
    "                for e in self.adj_list[u]:\n",
    "                    # We are interested in edges that connect to vertices not in 'visited' and with smaller weight than known values stored in a\n",
    "                    if e not in visited:\n",
    "                        # Edge e is of interest, let's store in the priority queue for future analysis\n",
    "                        pq.heappush(Q, (self.edge_weights[(u,e)], u, e))        \n",
    "        return tree\n",
    "        \n",
    "#######################################\n",
    "# Test code\n",
    "#######################################\n",
    "\n",
    "g = Graph()\n",
    "g.add_edge(0,2,weight=4,directed=False)\n",
    "g.add_edge(0,1,weight=24,directed=False)\n",
    "g.add_edge(2,3,weight=6,directed=False)\n",
    "g.add_edge(2,6,weight=16,directed=False)\n",
    "g.add_edge(3,6,weight=8,directed=False)\n",
    "g.add_edge(3,5,weight=5,directed=False)\n",
    "g.add_edge(3,1,weight=23,directed=False)\n",
    "g.add_edge(6,5,weight=10,directed=False)\n",
    "g.add_edge(6,7,weight=21,directed=False)\n",
    "g.add_edge(5,1,weight=18,directed=False)\n",
    "g.add_edge(5,4,weight=11,directed=False)\n",
    "g.add_edge(5,7,weight=14,directed=False)\n",
    "g.add_edge(4,1,weight=9,directed=False)\n",
    "g.add_edge(4,7,weight=7,directed=False)\n",
    "\n",
    "pos = {\n",
    "    0: '1,3!',\n",
    "    1: '4,3!',\n",
    "    2: '0,2!',\n",
    "    3: '1,1!',\n",
    "    4: '3,1!',\n",
    "    5: '2,1!',\n",
    "    6: '0,0!',\n",
    "    7: '4,0!',    \n",
    "}\n",
    "tree = g.prim(0)\n",
    "print(tree.edge_weights)\n",
    "tree.show(directed=False, positions=pos)"
   ]
  },
  {
   "cell_type": "markdown",
   "metadata": {},
   "source": [
    "If your algorithm is correct, you should see the following output:\n",
    "```\n",
    "{(0, 2): 4, (2, 3): 6, (3, 5): 5, (3, 6): 8, (5, 4): 11, (4, 7): 7, (4, 1): 9}\n",
    "```\n",
    "\n",
    "You can compare it to the figure to confirm it is correct."
   ]
  },
  {
   "cell_type": "markdown",
   "metadata": {},
   "source": [
    "## Final Task\n",
    "\n",
    "Create a python file called Graph.py containing the Graph class we implemented above. This will be used in future tutorials."
   ]
  },
  {
   "cell_type": "markdown",
   "metadata": {},
   "source": [
    "# Extensions\n",
    "\n",
    "We could implement some additional functions such as:\n",
    "1. Use the graph transpose routine to implement the Kosaraju's algorithm as we discussed in the theory part of this tutorial. \n",
    "\n",
    "2. Change the Prim algorithm to find the *Maximal* Spanning Tree. Such implementation could be achieved by replacing the min-heap by a max-heap.\n",
    "\n",
    "That is all for today. Next week we will develop some code to store and manipulate probability tables."
   ]
  },
  {
   "cell_type": "markdown",
   "metadata": {},
   "source": [
    "# The full Graph class (for reference)"
   ]
  },
  {
   "cell_type": "code",
   "execution_count": null,
   "metadata": {},
   "outputs": [],
   "source": [
    "# Visualise our graph\n",
    "import graphviz\n",
    "# Priority queue for Prim algorithm\n",
    "import heapq as pq\n",
    "\n",
    "\n",
    "class Graph():\n",
    "    def __init__(self, adj_list=None):\n",
    "        \"\"\"\n",
    "        Initialises a graph object\n",
    "        arguments:\n",
    "            `adj_list`, dictionary with nodes as keys and lists of adjacent nodes as value\n",
    "        return:\n",
    "            nothing\n",
    "        \"\"\"\n",
    "        self.adj_list = dict()\n",
    "        if adj_list is not None:\n",
    "            self.adj_list = adj_list.copy() # dict with graph's adjacency list\n",
    "        self.colour = dict()\n",
    "        self.edge_weights = dict() # maps a tuple (node1, node2) to a number\n",
    "\n",
    "    def __len__(self):\n",
    "        '''\n",
    "        return the number of nodes in the graph\n",
    "        '''\n",
    "        return len(self.adj_list.keys())\n",
    "\n",
    "    def __iter__(self):\n",
    "        '''\n",
    "        Let a user iterate over the nodes of the graph, like:\n",
    "        for node in graph:\n",
    "            ... # do something\n",
    "        '''\n",
    "        return iter(self.adj_list.keys())\n",
    "    \n",
    "    def children(self, node):\n",
    "        '''\n",
    "        Return a list of children of a node\n",
    "        '''\n",
    "        return self.adj_list[node]\n",
    "\n",
    "    def add_node(self, name):\n",
    "        '''\n",
    "        This method adds a node to the graph.\n",
    "        '''\n",
    "        if name not in self.adj_list:\n",
    "            self.adj_list[name] = []\n",
    "\n",
    "    def remove_node(self, name):\n",
    "        '''\n",
    "        This method removes a node, and any edges to or from the node\n",
    "        '''\n",
    "        for node in self.adj_list.keys():\n",
    "            if name in self.adj_list[node]:\n",
    "                self.adj_list[node].remove(name)\n",
    "        del self.adj_list[name]\n",
    "    \n",
    "            \n",
    "    def add_edge(self, node1, node2, weight=1, directed=True):\n",
    "        '''\n",
    "        This function adds an edge. If directed is false, it adds an edge in both directions\n",
    "        '''\n",
    "        # in case they don't already exist, add these nodes to the graph\n",
    "        self.add_node(node1)\n",
    "        self.add_node(node2)\n",
    "        \n",
    "        self.adj_list[node1].append(node2)\n",
    "        self.edge_weights[(node1,node2)] = weight\n",
    "        \n",
    "        if not directed:\n",
    "            self.adj_list[node2].append(node1)\n",
    "            self.edge_weights[(node2,node1)] = weight\n",
    "        \n",
    "    def show(self, directed=True, positions=None):\n",
    "        \"\"\"\n",
    "        Prints a graphical visualisation of the graph usign GraphViz\n",
    "        arguments:\n",
    "            `directed`, True if the graph is directed, False if the graph is undirected\n",
    "            `pos: dictionary`, with nodes as keys and positions as values\n",
    "        return:\n",
    "            GraphViz object\n",
    "        \"\"\"\n",
    "        if directed:\n",
    "            dot = graphviz.Digraph(engine=\"neato\", comment='Directed graph')\n",
    "        else:\n",
    "            dot = graphviz.Graph(engine=\"neato\", comment='Undirected graph')        \n",
    "        dot.attr(overlap=\"false\", splines=\"true\")\n",
    "        for v in self.adj_list:\n",
    "            if positions is not None:\n",
    "                dot.node(str(v), pos=positions[v])\n",
    "            else:\n",
    "                dot.node(str(v))\n",
    "        for v in self.adj_list:\n",
    "            for w in self.adj_list[v]:\n",
    "                dot.edge(str(v), str(w))\n",
    "\n",
    "        return dot\n",
    "    \n",
    "    def _dfs_r(self, v): # This is the main DFS recursive function\n",
    "        \"\"\"\n",
    "        argument \n",
    "        `v`, next vertex to be visited\n",
    "        `colour`, dictionary with the colour of each node\n",
    "        \"\"\"\n",
    "        print('Visiting: ', v)\n",
    "        self.colour[v] = 'grey' # Visited vertices are coloured 'grey'\n",
    "        for w in self.adj_list[v]: # Let's visit all outgoing edges from v\n",
    "            if self.colour[w] == 'white': # To avoid loops, we check if the next vertex hasn't been visited yet\n",
    "                self._dfs_r(w)\n",
    "        self.colour[v] = 'black' # When we finish the for loop, we know we have visited all nodes from v. It is time to turn it 'black'\n",
    "\n",
    "    def dfs(self, start): # This is an auxiliary DFS function to create and initialize the colour dictionary\n",
    "        \"\"\"\n",
    "        argument \n",
    "        `start`, starting vertex\n",
    "        \"\"\"    \n",
    "        self.colour = {node: 'white' for node in self.adj_list.keys()} # Create a dictionary with keys as node numbers and values equal to 'white'\n",
    "        self._dfs_r(start)\n",
    "        return self.colour # We can return colour dictionary. It is useful for some operations, such as detecting connected components\n",
    "    \n",
    "    def dfs_all(self, start):\n",
    "        \"\"\"\n",
    "        Traverse the graph in DFS order. This function keep calling dfs_r while there are white vetices\n",
    "        arguments: \n",
    "            `start`, starting vertex\n",
    "        return:\n",
    "            nothing, but self.colour is modified\n",
    "        \"\"\"    \n",
    "        self.colour = {node: 'white' for node in self.adj_list.keys()} # Create a dictionary with keys as node numbers and values equal to 'white'\n",
    "        for start in self.colour.keys():\n",
    "            if self.colour[start] == 'white':\n",
    "                self.dfs_recursive(start)        \n",
    "\n",
    "    def _find_cycle_r(self, v):\n",
    "        \"\"\"\n",
    "        Detect a cycle in the graph. This is the main recursive function based on DFS\n",
    "        arguments:\n",
    "            `v`, next vertex to be visited\n",
    "        return:\n",
    "            True if cycle is found. Otherwise, False\n",
    "        \"\"\"      \n",
    "        print('Visiting: ', v)\n",
    "        self.colour[v] = 'grey'\n",
    "        for w in self.adj_list[v]:\n",
    "            if self.colour[w] == 'white':\n",
    "                if self._find_cycle_r(w):\n",
    "                    return True\n",
    "            else:\n",
    "                if self.colour[w] == 'grey':\n",
    "                    print(v, w, 'Cycle detected')\n",
    "                    return True\n",
    "        self.colour[v] = 'black'\n",
    "        return False\n",
    "\n",
    "    def find_cycle(self, start):\n",
    "        \"\"\"\n",
    "        Detect a cycle in the graph. This is the entry function that calls find_cycle_r\n",
    "        arguments:\n",
    "            `v`, starting vertex\n",
    "        return:\n",
    "            True if cycle is found. Otherwise, False\n",
    "        \"\"\"        \n",
    "        self.colour = dict([(node, 'white') for node in self.adj_list.keys()])\n",
    "        for start in self.colour.keys():\n",
    "            if self.colour[start] == 'white':\n",
    "                if self._find_cycle_r(start):\n",
    "                    return True\n",
    "                else:\n",
    "                    return self.find_cycle_r(start)\n",
    "\n",
    "    def _topological_sort_r(self, v):\n",
    "        \"\"\"\n",
    "        Create a list with a topological ordering of the graph nodes. This is the main recursive function based on DFS\n",
    "        arguments:\n",
    "            `v`, current vertex\n",
    "        return:\n",
    "            nothing, but modifies self.stack\n",
    "        \"\"\"\n",
    "        self.colour[v] = 'grey'\n",
    "        for w in self.adj_list[v]:\n",
    "            if self.colour[w] == 'white':\n",
    "                self._topological_sort_r(w)\n",
    "        self.colour[v] = 'black'\n",
    "        self.stack.append(v)\n",
    "\n",
    "    def topological_sort(self):\n",
    "        \"\"\"\n",
    "        Create a list with a topological ordering of the graph nodes. This is the entry function that calls topological_sort_r\n",
    "        arguments:\n",
    "            None\n",
    "        return:\n",
    "            a list with the topological order of the graph G\n",
    "        \"\"\"\n",
    "        self.stack = []\n",
    "        self.colour = {node: 'white' for node in self.adj_list.keys()}\n",
    "        for start in self.adj_list.keys():\n",
    "            if self.colour[start] == 'white':\n",
    "                self._topological_sort_r(start)\n",
    "        return self.stack[::-1]\n",
    "\n",
    "    def transpose(self):\n",
    "        \"\"\"\n",
    "        Transposes the graph creating a new graph\n",
    "        arguments:\n",
    "            None\n",
    "        return:\n",
    "            a graph object with the transposition of this object\n",
    "        \"\"\"      \n",
    "        gt = dict((v, []) for v in self.adj_list)\n",
    "        for v in self.adj_list:\n",
    "            for w in self.adj_list[v]:\n",
    "                gt[w].append(v)\n",
    "        return Graph(gt)\n",
    "\n",
    "    def prim(self, start):\n",
    "        \"\"\"\n",
    "        argument \n",
    "        `start`, start vertex\n",
    "        \"\"\"      \n",
    "        visited = {start}\n",
    "        Q = []\n",
    "        tree = Graph()\n",
    "        for e in self.adj_list[start]:\n",
    "            pq.heappush(Q, (self.edge_weights[(start,e)], start, e))\n",
    "        while len(Q) > 0:\n",
    "            weight, v, u = pq.heappop(Q)\n",
    "            if u not in visited:\n",
    "                visited.add(u)\n",
    "                tree.add_edge(v, u, weight=weight)\n",
    "                for e in self.adj_list[u]:\n",
    "                    if e not in visited:\n",
    "                        pq.heappush(Q, (self.edge_weights[(u,e)], u, e))        \n",
    "        return tree"
   ]
  }
 ],
 "metadata": {
  "kernelspec": {
   "display_name": "Python 3.10.6 64-bit",
   "language": "python",
   "name": "python3"
  },
  "language_info": {
   "codemirror_mode": {
    "name": "ipython",
    "version": 3
   },
   "file_extension": ".py",
   "mimetype": "text/x-python",
   "name": "python",
   "nbconvert_exporter": "python",
   "pygments_lexer": "ipython3",
   "version": "3.10.6"
  },
  "toc": {
   "colors": {
    "hover_highlight": "#DAA520",
    "navigate_num": "#000000",
    "navigate_text": "#333333",
    "running_highlight": "#FF0000",
    "selected_highlight": "#FFD700",
    "sidebar_border": "#EEEEEE",
    "wrapper_background": "#FFFFFF"
   },
   "moveMenuLeft": true,
   "nav_menu": {
    "height": "198px",
    "width": "252px"
   },
   "navigate_menu": true,
   "number_sections": true,
   "sideBar": true,
   "threshold": 4,
   "toc_cell": false,
   "toc_position": {
    "height": "625px",
    "left": "0px",
    "right": "1067.67px",
    "top": "107px",
    "width": "212px"
   },
   "toc_section_display": "block",
   "toc_window_display": true,
   "widenNotebook": false
  },
  "vscode": {
   "interpreter": {
    "hash": "aee8b7b246df8f9039afb4144a1f6fd8d2ca17a180786b69acc140d282b71a49"
   }
  }
 },
 "nbformat": 4,
 "nbformat_minor": 2
}
